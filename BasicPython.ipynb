{
 "cells": [
  {
   "cell_type": "markdown",
   "metadata": {},
   "source": [
    "# Basics of python and some tools\n",
    "## Level 2\n",
    "### Level 3\n",
    "\n",
    "- list item 1\n",
    "- list item 2\n",
    "\n",
    "To use this tutorial, run through the code blocks and follow the instructions.\n",
    "\n",
    "Some scalar classes are shown below:"
   ]
  },
  {
   "cell_type": "code",
   "execution_count": null,
   "metadata": {},
   "outputs": [],
   "source": []
  },
  {
   "cell_type": "code",
   "execution_count": null,
   "metadata": {},
   "outputs": [],
   "source": []
  },
  {
   "cell_type": "code",
   "execution_count": null,
   "metadata": {},
   "outputs": [],
   "source": []
  },
  {
   "cell_type": "code",
   "execution_count": 1,
   "metadata": {},
   "outputs": [],
   "source": [
    "a = 1 # integer\n",
    "b = 3.0 # float\n",
    "c = 4. # float\n",
    "d = \"C\" # string\n",
    "e = \"Statements!\" # string\n",
    "f = True # boolean -- notice capital first letter, lowercase rest"
   ]
  },
  {
   "cell_type": "markdown",
   "metadata": {},
   "source": [
    "## Lists"
   ]
  },
  {
   "cell_type": "code",
   "execution_count": null,
   "metadata": {},
   "outputs": [],
   "source": [
    "a = [1, 2, \"a\", 2.2]"
   ]
  },
  {
   "cell_type": "markdown",
   "metadata": {},
   "source": [
    "- Lists can have different types (interger, float, character, boolean)\n",
    "- lists are ordered and mutable\n",
    "- Run the cell above, then try `a[2] = \"Frog\"` in the cell below."
   ]
  },
  {
   "cell_type": "code",
   "execution_count": null,
   "metadata": {},
   "outputs": [],
   "source": []
  },
  {
   "cell_type": "markdown",
   "metadata": {},
   "source": [
    "## Tuples"
   ]
  },
  {
   "cell_type": "code",
   "execution_count": null,
   "metadata": {},
   "outputs": [],
   "source": [
    "b = (1, 2, \"a\", 2.2)"
   ]
  },
  {
   "cell_type": "markdown",
   "metadata": {},
   "source": [
    "- Tuples are immutable\n",
    "- Run the cell above, then try `b[2] = \"Frog\"` in the cell below"
   ]
  },
  {
   "cell_type": "code",
   "execution_count": null,
   "metadata": {},
   "outputs": [],
   "source": []
  },
  {
   "cell_type": "markdown",
   "metadata": {},
   "source": [
    "## Strings"
   ]
  },
  {
   "cell_type": "code",
   "execution_count": null,
   "metadata": {},
   "outputs": [],
   "source": [
    "c = \"This is a string\""
   ]
  },
  {
   "cell_type": "markdown",
   "metadata": {},
   "source": [
    "- Strings are immutable but indexable\n",
    "- Run the cell above, then try `c[0]`, `c[:3]`, and `c[:-3]` and see what happens\n",
    "-  Try `c[0] = \"X\"` and see what happens"
   ]
  },
  {
   "cell_type": "code",
   "execution_count": null,
   "metadata": {},
   "outputs": [],
   "source": []
  },
  {
   "cell_type": "markdown",
   "metadata": {},
   "source": [
    "## Dictionaries\n",
    "- Unordered, named collection\n"
   ]
  },
  {
   "cell_type": "code",
   "execution_count": null,
   "metadata": {},
   "outputs": [],
   "source": [
    "d = {\"key\": \"Value\"}"
   ]
  },
  {
   "cell_type": "markdown",
   "metadata": {},
   "source": [
    "## Object-orientation\n",
    "Classes have associated methods\n",
    "These are encapsulated with an instance of the class\n",
    "For example, if you wanted to add an item to a list, you use the append method"
   ]
  },
  {
   "cell_type": "code",
   "execution_count": null,
   "metadata": {},
   "outputs": [],
   "source": [
    "mylist = [1, 2, 3]\n",
    "mylist.append(4)\n",
    "mylist"
   ]
  },
  {
   "cell_type": "markdown",
   "metadata": {},
   "source": [
    "Similarly, dictionaries have keys and values:"
   ]
  },
  {
   "cell_type": "code",
   "execution_count": null,
   "metadata": {},
   "outputs": [],
   "source": [
    "\n",
    "mydict = {\"a\": 10, \"b\": 20}\n",
    "print(\"keys:\", mydict.keys())\n",
    "print(\"values:\", mydict.values())"
   ]
  },
  {
   "cell_type": "markdown",
   "metadata": {},
   "source": [
    "## Control flow\n",
    "Python uses if, elif and else statements with Boolean logic.\n",
    "Note that the conditional statement ends with a colon, and the code that is run is indented by 4 space characters. Whitespace is significant. Semi-colons aren't needed after statements.\n"
   ]
  },
  {
   "cell_type": "code",
   "execution_count": null,
   "metadata": {},
   "outputs": [],
   "source": [
    "from random import randint #importing a function for random integers from the random module\n",
    "a = randint(1,10) #see randint? for details\n",
    "if a < 3:\n",
    "    print(a,\"is less than three\") # Python 3 uses print as a function\n",
    "elif a == 3:\n",
    "    print(a,\"is equal to three\")\n",
    "else:\n",
    "    print(a,\"is greater than three\")"
   ]
  },
  {
   "cell_type": "markdown",
   "metadata": {},
   "source": [
    "## for loops\n",
    "You can use for loops to iterate over an object like a list, tuple or set of dictionary keys.\n",
    "\n",
    "One trick is to create a sequence of numbers and iterate over them. The range function creates a sequence.\n",
    "\n",
    "You can define a variable based on your iterated object and include in your function.\n",
    "\n",
    "The \"break\" statement will end the most immediate for loop.\n",
    "\n",
    "An \"else\" statement also applies to a for loop. "
   ]
  },
  {
   "cell_type": "code",
   "execution_count": 2,
   "metadata": {},
   "outputs": [
    {
     "name": "stdout",
     "output_type": "stream",
     "text": [
      "2 is a prime number\n",
      "3 is a prime number\n",
      "4 equals 2 * 2\n",
      "5 is a prime number\n",
      "6 equals 2 * 3\n",
      "7 is a prime number\n",
      "8 equals 2 * 4\n",
      "9 equals 3 * 3\n"
     ]
    }
   ],
   "source": [
    "for n in range(2, 10): #range creates a sequence of numbers up to--but not including--second variable\n",
    "    for x in range(2, n):\n",
    "        if n % x == 0: # testing for a remainder\n",
    "            print(n, 'equals', x, '*', n//x)\n",
    "            break\n",
    "\n",
    "        # loop fell through without finding a factor\n",
    "    else:\n",
    "        print(n, 'is a prime number')"
   ]
  },
  {
   "cell_type": "markdown",
   "metadata": {},
   "source": [
    "## while loops\n",
    "using a `while` statement will iterate through a code block as long as a condition is true. Be careful, you risk an infinite loop!"
   ]
  },
  {
   "cell_type": "code",
   "execution_count": 3,
   "metadata": {},
   "outputs": [
    {
     "name": "stdout",
     "output_type": "stream",
     "text": [
      "11\n",
      "12\n",
      "13\n",
      "14\n",
      "15\n",
      "16\n",
      "17\n",
      "18\n",
      "19\n",
      "20\n"
     ]
    }
   ],
   "source": [
    "a = 10\n",
    "while a < 20:\n",
    "    a += 1 # this operator takes the existing variable and adds 1\n",
    "    print(a)"
   ]
  },
  {
   "cell_type": "markdown",
   "metadata": {},
   "source": [
    "## List comprehension:\n",
    "\n",
    "This is a functional-esque trick, where you define a new list as a function applied over an iterable item"
   ]
  },
  {
   "cell_type": "code",
   "execution_count": 4,
   "metadata": {},
   "outputs": [
    {
     "data": {
      "text/plain": [
       "[1.0,\n",
       " 0.25,\n",
       " 0.1111111111111111,\n",
       " 0.0625,\n",
       " 0.04,\n",
       " 0.027777777777777776,\n",
       " 0.02040816326530612,\n",
       " 0.015625,\n",
       " 0.012345679012345678,\n",
       " 0.01]"
      ]
     },
     "execution_count": 4,
     "metadata": {},
     "output_type": "execute_result"
    }
   ],
   "source": [
    "a = [1/i**2 for i in range(1,11)] # square brackets indicate list\n",
    "a"
   ]
  },
  {
   "cell_type": "markdown",
   "metadata": {},
   "source": [
    "# Importing libraries and other code\n",
    "At the top of scripts you might see statements like:\n",
    "`import numpy as np`\n",
    "\n",
    "These load external libraries into your Python session. The modules are treated like objects. The command above imports the numpy library, but names the object \"np\". You can access functions by np.*functionname*\n",
    "\n",
    "If you want to just import a single function into your namespace:\n",
    "\n",
    "`from numpy import array`\n",
    "\n",
    "However, the following is considered bad practice, because you may unintentionally overwrite a function name in your environment:\n",
    "\n",
    "`from numpy import *` <- don't do this!"
   ]
  },
  {
   "cell_type": "code",
   "execution_count": 11,
   "metadata": {},
   "outputs": [],
   "source": [
    "from numpy import array\n",
    "a = array([1,2,3])\n"
   ]
  },
  {
   "cell_type": "code",
   "execution_count": null,
   "metadata": {},
   "outputs": [],
   "source": [
    "import antigravity"
   ]
  },
  {
   "cell_type": "code",
   "execution_count": null,
   "metadata": {},
   "outputs": [],
   "source": [
    "a * a # element wise multiplication"
   ]
  },
  {
   "cell_type": "code",
   "execution_count": 10,
   "metadata": {},
   "outputs": [
    {
     "data": {
      "text/plain": [
       "array([[1, 2, 3],\n",
       "       [4, 5, 6],\n",
       "       [7, 8, 9]])"
      ]
     },
     "execution_count": 10,
     "metadata": {},
     "output_type": "execute_result"
    }
   ],
   "source": [
    "b = np.array([[1,2,3],[4,5,6],[7,8,9]]) # creating a 3 row matrix\n",
    "b"
   ]
  },
  {
   "cell_type": "code",
   "execution_count": 12,
   "metadata": {},
   "outputs": [
    {
     "data": {
      "text/plain": [
       "array([30, 36, 42])"
      ]
     },
     "execution_count": 12,
     "metadata": {},
     "output_type": "execute_result"
    }
   ],
   "source": [
    "np.dot(a,b) # calculating a dot product"
   ]
  },
  {
   "cell_type": "markdown",
   "metadata": {},
   "source": [
    "You can also import python scripts that are in the same working directory.\n",
    "\n",
    "filename.py\n",
    "\n",
    "\n",
    "import filename"
   ]
  },
  {
   "cell_type": "code",
   "execution_count": 13,
   "metadata": {},
   "outputs": [
    {
     "data": {
      "text/plain": [
       "'/home/chartron/bien202sp20'"
      ]
     },
     "execution_count": 13,
     "metadata": {},
     "output_type": "execute_result"
    }
   ],
   "source": [
    "import os\n",
    "os.getcwd() # shows your working directory"
   ]
  },
  {
   "cell_type": "markdown",
   "metadata": {},
   "source": [
    "## Basic functions\n",
    "\n",
    "Functions are defined with the def command. The following function is pretty useless. It counts up from the first variable \"a\" until 20, and reports the number of steps. If the starting value is greater than \"b\", it doesn't count."
   ]
  },
  {
   "cell_type": "code",
   "execution_count": 21,
   "metadata": {},
   "outputs": [],
   "source": [
    "def pointless(a=1, b=10, c=20): # function name, names of variables, and default values\n",
    "    \"\"\"\n",
    "    This function counts the number of steps between two variables, a and c. \n",
    "    If the value of a is greater than b, the program will state so and end.\n",
    "    \"\"\"\n",
    "    steps = 0\n",
    "    if a > b:\n",
    "        return \"a is greater than\"+str(b) # The return statement ends the function\n",
    "    while a < c:\n",
    "        a+=1\n",
    "        steps += 1\n",
    "    print(\"The number of steps is\", steps) # printed at end of function\n",
    "    return steps, \"The number of steps taken was \" + str(steps) # function returns a tuple"
   ]
  },
  {
   "cell_type": "code",
   "execution_count": 15,
   "metadata": {},
   "outputs": [
    {
     "name": "stdout",
     "output_type": "stream",
     "text": [
      "The number of steps is 15\n"
     ]
    }
   ],
   "source": [
    "a = pointless(5)"
   ]
  },
  {
   "cell_type": "code",
   "execution_count": 16,
   "metadata": {},
   "outputs": [
    {
     "data": {
      "text/plain": [
       "(15, 'The number of steps taken was 15')"
      ]
     },
     "execution_count": 16,
     "metadata": {},
     "output_type": "execute_result"
    }
   ],
   "source": [
    "a # the tuple that is returned"
   ]
  },
  {
   "cell_type": "code",
   "execution_count": 17,
   "metadata": {},
   "outputs": [
    {
     "name": "stdout",
     "output_type": "stream",
     "text": [
      "The number of steps is 10\n"
     ]
    }
   ],
   "source": [
    "steps, statement = pointless(10) # the tuple can be cast on multiple variables"
   ]
  },
  {
   "cell_type": "code",
   "execution_count": 18,
   "metadata": {},
   "outputs": [
    {
     "data": {
      "text/plain": [
       "10"
      ]
     },
     "execution_count": 18,
     "metadata": {},
     "output_type": "execute_result"
    }
   ],
   "source": [
    "steps"
   ]
  },
  {
   "cell_type": "code",
   "execution_count": 19,
   "metadata": {},
   "outputs": [
    {
     "data": {
      "text/plain": [
       "'The number of steps taken was 10'"
      ]
     },
     "execution_count": 19,
     "metadata": {},
     "output_type": "execute_result"
    }
   ],
   "source": [
    "statement"
   ]
  },
  {
   "cell_type": "code",
   "execution_count": 24,
   "metadata": {},
   "outputs": [
    {
     "data": {
      "text/plain": [
       "\u001b[0;31mSignature:\u001b[0m \u001b[0mpointless\u001b[0m\u001b[0;34m(\u001b[0m\u001b[0ma\u001b[0m\u001b[0;34m=\u001b[0m\u001b[0;36m1\u001b[0m\u001b[0;34m,\u001b[0m \u001b[0mb\u001b[0m\u001b[0;34m=\u001b[0m\u001b[0;36m10\u001b[0m\u001b[0;34m,\u001b[0m \u001b[0mc\u001b[0m\u001b[0;34m=\u001b[0m\u001b[0;36m20\u001b[0m\u001b[0;34m)\u001b[0m\u001b[0;34m\u001b[0m\u001b[0;34m\u001b[0m\u001b[0m\n",
       "\u001b[0;31mDocstring:\u001b[0m\n",
       "This function counts the number of steps between two variables, a and c. \n",
       "If the value of a is greater than b, the program will state so and end.\n",
       "\u001b[0;31mFile:\u001b[0m      ~/bien202sp20/<ipython-input-21-7574534327bf>\n",
       "\u001b[0;31mType:\u001b[0m      function\n"
      ]
     },
     "metadata": {},
     "output_type": "display_data"
    }
   ],
   "source": [
    "pointless?"
   ]
  },
  {
   "cell_type": "markdown",
   "metadata": {},
   "source": [
    "## Visualization using Matplotlib\n",
    "\n",
    "This code is adapted from: https://matplotlib.org/3.2.1/tutorials/introductory/usage.html#sphx-glr-tutorials-introductory-usage-py\n",
    "\n",
    "The matplotlib website has lots of great tutorials\n",
    "\n",
    "The pyplot function mimics the state system used in matlab graphics."
   ]
  },
  {
   "cell_type": "code",
   "execution_count": 25,
   "metadata": {},
   "outputs": [],
   "source": [
    "import matplotlib.pyplot as plt\n",
    "import numpy as np"
   ]
  },
  {
   "cell_type": "code",
   "execution_count": 26,
   "metadata": {},
   "outputs": [
    {
     "data": {
      "image/png": "[encoded data removed]",
      "text/plain": [
       "<Figure size 432x288 with 1 Axes>"
      ]
     },
     "metadata": {
      "needs_background": "light"
     },
     "output_type": "display_data"
    }
   ],
   "source": [
    "plt.plot([1, 2, 3, 4], [1, 4, 9, 16], 'ro')\n",
    "plt.axis([0, 6, 0, 20]);"
   ]
  },
  {
   "cell_type": "code",
   "execution_count": 27,
   "metadata": {},
   "outputs": [],
   "source": [
    "xs = range(1, 25)\n",
    "ys = [1 / x for x in xs] #list comprehension!\n",
    "zs = [1 / (25 - x) for x in xs]"
   ]
  },
  {
   "cell_type": "markdown",
   "metadata": {},
   "source": [
    "Now let us use matplotlib to plot our scatter plot:"
   ]
  },
  {
   "cell_type": "code",
   "execution_count": 28,
   "metadata": {
    "tags": [
     "nbval-ignore-output"
    ]
   },
   "outputs": [
    {
     "data": {
      "image/png": "[encoded data removed]",
      "text/plain": [
       "<Figure size 432x288 with 1 Axes>"
      ]
     },
     "metadata": {
      "needs_background": "light"
     },
     "output_type": "display_data"
    }
   ],
   "source": [
    "plt.scatter(xs, ys);"
   ]
  },
  {
   "cell_type": "code",
   "execution_count": 29,
   "metadata": {
    "tags": [
     "nbval-ignore-output"
    ]
   },
   "outputs": [
    {
     "data": {
      "image/png": "[encoded data removed]",
      "text/plain": [
       "<Figure size 432x288 with 1 Axes>"
      ]
     },
     "metadata": {
      "needs_background": "light"
     },
     "output_type": "display_data"
    }
   ],
   "source": [
    "# evenly sampled time at 200ms intervals\n",
    "t = np.arange(0., 5., 0.2) #numpy array range function\n",
    "\n",
    "# red dashes, blue squares and green triangles\n",
    "# matlab like line forms, and multiple series can be input like a list\n",
    "plt.plot(t, t, 'r--', t, t**2, 'bs', t, t**3, 'g^'); "
   ]
  },
  {
   "cell_type": "markdown",
   "metadata": {},
   "source": [
    "We can add a legend to our plot (which can include LaTeX) as well as axes labels and a title:"
   ]
  },
  {
   "cell_type": "code",
   "execution_count": 30,
   "metadata": {
    "tags": [
     "nbval-ignore-output"
    ]
   },
   "outputs": [
    {
     "data": {
      "image/png": "[encoded data removed]",
      "text/plain": [
       "<Figure size 432x288 with 1 Axes>"
      ]
     },
     "metadata": {
      "needs_background": "light"
     },
     "output_type": "display_data"
    }
   ],
   "source": [
    "plt.scatter(xs, ys, label=\"$y=\\\\frac{1}{x}$\")\n",
    "plt.scatter(xs, zs, label=\"$y=\\\\frac{1}{25 - x}$\")\n",
    "\n",
    "plt.xlabel(\"$x$\") # In latex style, so italicized\n",
    "plt.ylabel(\"Value\")\n",
    "plt.title(\"My scatter plot\")\n",
    "\n",
    "plt.legend();"
   ]
  },
  {
   "cell_type": "markdown",
   "metadata": {},
   "source": [
    "Another example. You can save an output file with savefig function.\n",
    "Note that this is just a brief introduction to matplotlib. Lots of documentation is available online! If you want to make a figure, someone else has probably tried to make it before."
   ]
  },
  {
   "cell_type": "code",
   "execution_count": 31,
   "metadata": {},
   "outputs": [
    {
     "data": {
      "image/png": "[encoded data removed]",
      "text/plain": [
       "<Figure size 432x288 with 2 Axes>"
      ]
     },
     "metadata": {
      "needs_background": "light"
     },
     "output_type": "display_data"
    }
   ],
   "source": [
    "x1 = np.linspace(0.0, 5.0) #similar to np.arange\n",
    "x2 = np.linspace(0.0, 2.0)\n",
    "\n",
    "y1 = np.cos(2 * np.pi * x1) * np.exp(-x1) #mathematical functions provided by numpy\n",
    "y2 = np.cos(2 * np.pi * x2)\n",
    "\n",
    "plt.subplot(2, 1, 1)\n",
    "plt.plot(x1, y1, 'o-')\n",
    "plt.title('A tale of 2 subplots')\n",
    "plt.ylabel('Damped oscillation')\n",
    "\n",
    "plt.subplot(2, 1, 2)\n",
    "plt.plot(x2, y2, '.-')\n",
    "plt.xlabel('time (s)')\n",
    "plt.ylabel('Undamped')\n",
    "\n",
    "plt.savefig(\"someplots.png\")"
   ]
  },
  {
   "cell_type": "markdown",
   "metadata": {},
   "source": [
    "# Symbolic mathematics with Sympy\n",
    "Adapted from Vince Knight's Python for Mathematics Handbook \n",
    "\n",
    "[Sympy](http://www.sympy.org/en/index.html) is described as a:\n",
    "\n",
    "> \"... Python library for symbolic mathematics.\"\n",
    "\n",
    "This means it can be used to:\n",
    "\n",
    "- Manipulate symbolic expressions;\n",
    "- Solve symbolic equations;\n",
    "- Carry out symbolic Calculus;\n",
    "- Plot symbolic function.\n",
    "\n",
    "It has other capabilities that we will not go in to in this handbook. But you can read more about it here: http://www.sympy.org/en/index.html\n",
    "\n",
    "## Manipulating symbolic expressions\n",
    "\n",
    "Before we can start using the library to manipulate expressions, we need to import it."
   ]
  },
  {
   "cell_type": "code",
   "execution_count": 32,
   "metadata": {},
   "outputs": [],
   "source": [
    "import sympy as sym"
   ]
  },
  {
   "cell_type": "markdown",
   "metadata": {},
   "source": [
    "The above imports the library and gives us access to it's commands using the shortand `sym` which is conventially used.\n",
    "\n",
    "If we wanted to get Python to check that $x - x = 0$ we would get an error if we did not tell Python what $x$ was."
   ]
  },
  {
   "cell_type": "markdown",
   "metadata": {},
   "source": [
    "This is where Sympy comes in, we can tell Python to create $x$ as a symbolic variable:"
   ]
  },
  {
   "cell_type": "code",
   "execution_count": 33,
   "metadata": {},
   "outputs": [],
   "source": [
    "x = sym.symbols('x')"
   ]
  },
  {
   "cell_type": "markdown",
   "metadata": {},
   "source": [
    "Now we can calculate $x - x$:"
   ]
  },
  {
   "cell_type": "code",
   "execution_count": 34,
   "metadata": {},
   "outputs": [
    {
     "data": {
      "text/latex": [
       "$\\displaystyle 0$"
      ],
      "text/plain": [
       "0"
      ]
     },
     "execution_count": 34,
     "metadata": {},
     "output_type": "execute_result"
    }
   ],
   "source": [
    "x - x"
   ]
  },
  {
   "cell_type": "markdown",
   "metadata": {},
   "source": [
    "We can create and manipulate expressions in Sympy. Let us for example verify:\n",
    "\n",
    "$$(a + b) ^ 2 = a ^ 2 + 2ab + b ^2$$\n",
    "\n",
    "First, we create the symbolic variables $a, b$:"
   ]
  },
  {
   "cell_type": "code",
   "execution_count": 35,
   "metadata": {},
   "outputs": [],
   "source": [
    "a, b = sym.symbols('a, b')"
   ]
  },
  {
   "cell_type": "markdown",
   "metadata": {},
   "source": [
    "Now let's create our expression:"
   ]
  },
  {
   "cell_type": "code",
   "execution_count": 36,
   "metadata": {},
   "outputs": [
    {
     "data": {
      "text/latex": [
       "$\\displaystyle \\left(a + b\\right)^{2}$"
      ],
      "text/plain": [
       "(a + b)**2"
      ]
     },
     "execution_count": 36,
     "metadata": {},
     "output_type": "execute_result"
    }
   ],
   "source": [
    "expr = (a + b) ** 2 \n",
    "expr"
   ]
  },
  {
   "cell_type": "markdown",
   "metadata": {},
   "source": [
    "**Note** we can get Sympy to use LaTeX so that the output looks nice in a notebook:"
   ]
  },
  {
   "cell_type": "code",
   "execution_count": null,
   "metadata": {},
   "outputs": [],
   "source": [
    "sym.init_printing() #This seems to work by default in my version of Jupyter Lab"
   ]
  },
  {
   "cell_type": "code",
   "execution_count": null,
   "metadata": {},
   "outputs": [],
   "source": [
    "expr"
   ]
  },
  {
   "cell_type": "markdown",
   "metadata": {},
   "source": [
    "Let us expand our expression:"
   ]
  },
  {
   "cell_type": "code",
   "execution_count": 37,
   "metadata": {},
   "outputs": [
    {
     "data": {
      "text/latex": [
       "$\\displaystyle a^{2} + 2 a b + b^{2}$"
      ],
      "text/plain": [
       "a**2 + 2*a*b + b**2"
      ]
     },
     "execution_count": 37,
     "metadata": {},
     "output_type": "execute_result"
    }
   ],
   "source": [
    "expr.expand()"
   ]
  },
  {
   "cell_type": "markdown",
   "metadata": {},
   "source": [
    "Note that we can also get Sympy to produce the LaTeX code for future use:"
   ]
  },
  {
   "cell_type": "code",
   "execution_count": null,
   "metadata": {},
   "outputs": [],
   "source": [
    "sym.latex(expr.expand())"
   ]
  },
  {
   "cell_type": "markdown",
   "metadata": {},
   "source": [
    "---\n",
    "**EXERCISE** Use Sympy to verify the following expressions:\n",
    "\n",
    "- $(a - b) ^ 2 = a ^ 2 - 2 a b + b^2$\n",
    "- $a ^ 2 - b ^ 2 = (a - b) (a + b)$ (instead of using `expand`, try `factor`)"
   ]
  },
  {
   "cell_type": "markdown",
   "metadata": {},
   "source": [
    "## Solving symbolic equations"
   ]
  },
  {
   "cell_type": "markdown",
   "metadata": {},
   "source": [
    "We can use Sympy to solve symbolic expression. For example let's find the solution in $x$ of the quadratic equation:\n",
    "\n",
    "$$a x ^ 2 + b x + c = 0$$"
   ]
  },
  {
   "cell_type": "code",
   "execution_count": null,
   "metadata": {},
   "outputs": [],
   "source": [
    "# We only really need to define `c` but doing them all again.\n",
    "a, b, c, x = sym.symbols('a, b, c, x')  "
   ]
  },
  {
   "cell_type": "markdown",
   "metadata": {},
   "source": [
    "The Sympy command for solving equations is `solveset`. The first argument is an expression for which the root will be found. The second argument is the value that we are solving for."
   ]
  },
  {
   "cell_type": "code",
   "execution_count": null,
   "metadata": {},
   "outputs": [],
   "source": [
    "sym.solveset(a * x ** 2 + b * x + c, x)"
   ]
  },
  {
   "cell_type": "markdown",
   "metadata": {},
   "source": [
    "---\n",
    "**EXERCISE** Use Sympy to find the solutions to the generic cubic equation:\n",
    "\n",
    "$$a x ^ 3 + b x ^ 2 + c  x + d = 0$$\n",
    "\n",
    "---"
   ]
  },
  {
   "cell_type": "markdown",
   "metadata": {},
   "source": [
    "It is possible to pass more arguments to `solveset` for example to constrain the solution space. Let us see what the solution of the following is in $\\mathbb{R}$:\n",
    "\n",
    "$$x^2=-1$$"
   ]
  },
  {
   "cell_type": "code",
   "execution_count": null,
   "metadata": {},
   "outputs": [],
   "source": [
    "sym.solveset(x ** 2 + 1, x, domain=sym.S.Reals)"
   ]
  },
  {
   "cell_type": "markdown",
   "metadata": {},
   "source": [
    "---\n",
    "**EXERCISE** Use Sympy to find the solutions to the following equations:\n",
    "\n",
    "- $x ^ 2 == 2$ in $\\mathbb{N}$;\n",
    "- $x ^ 3 + 2 x = 0$ in $\\mathbb{R}$.\n",
    "\n",
    "---"
   ]
  },
  {
   "cell_type": "markdown",
   "metadata": {},
   "source": [
    "## Symbolic calculus\n",
    "\n",
    "We can use Sympy to compute limits. Let us calculate:\n",
    "\n",
    "$$\\lim_{x\\to 0^+}\\frac{1}{x}$$"
   ]
  },
  {
   "cell_type": "code",
   "execution_count": null,
   "metadata": {},
   "outputs": [],
   "source": [
    "sym.limit(1/x, x, 0, dir=\"+\")"
   ]
  },
  {
   "cell_type": "markdown",
   "metadata": {},
   "source": [
    "---\n",
    "**EXERCISE** Compute the following limits:\n",
    "\n",
    "1. $\\lim_{x\\to 0^-}\\frac{1}{x}$\n",
    "2.  $\\lim_{x\\to 0}\\frac{1}{x^2}$\n",
    "\n",
    "---"
   ]
  },
  {
   "cell_type": "markdown",
   "metadata": {},
   "source": [
    "We can use also Sympy to differentiate and integrate. Let us experiment with differentiating the following expression:\n",
    "\n",
    "$$x ^ 2 - \\cos(x)$$"
   ]
  },
  {
   "cell_type": "code",
   "execution_count": null,
   "metadata": {},
   "outputs": [],
   "source": [
    "sym.diff(x ** 2 - sym.cos(x), x)"
   ]
  },
  {
   "cell_type": "markdown",
   "metadata": {},
   "source": [
    "Similarly we can integrate:"
   ]
  },
  {
   "cell_type": "code",
   "execution_count": null,
   "metadata": {},
   "outputs": [],
   "source": [
    "sym.integrate(x ** 2 - sym.cos(x), x)"
   ]
  },
  {
   "cell_type": "markdown",
   "metadata": {},
   "source": [
    "We can also carry out definite integrals:"
   ]
  },
  {
   "cell_type": "code",
   "execution_count": null,
   "metadata": {},
   "outputs": [],
   "source": [
    "sym.integrate(x ** 2 - sym.cos(x), (x, 0, 5))"
   ]
  },
  {
   "cell_type": "markdown",
   "metadata": {},
   "source": [
    "## ODE integration \n",
    "\n",
    "ODE tools are provided by the scipy library.\n",
    "Code adapted from: https://nextjournal.com/mmsb/solving-odes, updated for a newer version of scipy and some tricks by Justin\n"
   ]
  },
  {
   "cell_type": "code",
   "execution_count": 38,
   "metadata": {},
   "outputs": [
    {
     "data": {
      "image/png": "[encoded data removed]",
      "text/plain": [
       "<Figure size 432x288 with 1 Axes>"
      ]
     },
     "metadata": {
      "needs_background": "light"
     },
     "output_type": "display_data"
    }
   ],
   "source": [
    "import numpy as np\n",
    "from scipy.integrate import solve_ivp\n",
    "import matplotlib.pyplot as plt\n",
    "\n",
    "# function that returns dy/dt\n",
    "def model(t,y,k):\n",
    "    dydt = -k * y\n",
    "    return dydt\n",
    "\n",
    "# initial condition\n",
    "y0 = [5]\n",
    "\n",
    "# time point range\n",
    "t_range = (0, 20)\n",
    "t_eval = np.linspace(0, 20)\n",
    "\n",
    "\n",
    "# solve ODEs\n",
    "y1 = solve_ivp(lambda t,y : model(t,y, 0.1),t_range,y0, \"RK45\", t_eval) # k is 0.1\n",
    "y2 = solve_ivp(lambda t,y : model(t,y, 0.2),t_range,y0, \"RK45\", t_eval)\n",
    "y3 = solve_ivp(lambda t,y : model(t,y, 0.5),t_range,y0, \"RK45\", t_eval)\n",
    "\n",
    "# Example of scanning k using list comprehension\n",
    "y_list = [solve_ivp(lambda t,y : model(t,y,i),t_range,y0, \"RK45\", t_eval) for i in [0.1, 0.2, 0.5]]\n",
    "\n",
    "# plot results\n",
    "# solve_ivp returns an object with a field called \"y\", containing an array of dimensions len(y0), len(t_eval)\n",
    "# You can scan multiple y0 values in one function.\n",
    "\n",
    "plt.figure()\n",
    "\n",
    "# Could you simplify the following block using list comprehension?\n",
    "plt.plot(t_eval,y_list[0].y[0],'r-',linewidth=2,label='k=0.1')\n",
    "plt.plot(t_eval,y_list[1].y[0],'b--',linewidth=2,label='k=0.2')\n",
    "plt.plot(t_eval,y_list[2].y[0],'g:',linewidth=2,label='k=0.5')\n",
    "plt.xlabel('time')\n",
    "plt.ylabel('y(t)')\n",
    "plt.legend();"
   ]
  },
  {
   "cell_type": "markdown",
   "metadata": {},
   "source": [
    "# Extra: A systems biology package called pysb\n",
    "This will need to be installed into your conda environment. \n",
    "\n",
    "This library is a great example of an API: it uses classes and constructor functions to handle molecules, reaction rates, and reactions.  \n",
    "If you'd like to do a biochemical simulation, play around with this code and see https://pysb.readthedocs.io/en/stable/\n",
    "\n",
    "Install PySB from a command-line console:\n",
    "\n",
    "```\n",
    "conda install -c alubbock pysb\n",
    "\n",
    "```"
   ]
  },
  {
   "cell_type": "code",
   "execution_count": 39,
   "metadata": {},
   "outputs": [
    {
     "ename": "ModuleNotFoundError",
     "evalue": "No module named 'pysb'",
     "output_type": "error",
     "traceback": [
      "\u001b[0;31m---------------------------------------------------------------------------\u001b[0m",
      "\u001b[0;31mModuleNotFoundError\u001b[0m                       Traceback (most recent call last)",
      "\u001b[0;32m<ipython-input-39-c9632764df1f>\u001b[0m in \u001b[0;36m<module>\u001b[0;34m\u001b[0m\n\u001b[0;32m----> 1\u001b[0;31m \u001b[0;32mfrom\u001b[0m \u001b[0mpysb\u001b[0m \u001b[0;32mimport\u001b[0m \u001b[0mModel\u001b[0m\u001b[0;34m,\u001b[0m \u001b[0mMonomer\u001b[0m\u001b[0;34m,\u001b[0m \u001b[0mParameter\u001b[0m\u001b[0;34m,\u001b[0m \u001b[0mInitial\u001b[0m\u001b[0;34m,\u001b[0m \u001b[0mRule\u001b[0m\u001b[0;34m,\u001b[0m \u001b[0mObservable\u001b[0m\u001b[0;34m\u001b[0m\u001b[0;34m\u001b[0m\u001b[0m\n\u001b[0m\u001b[1;32m      2\u001b[0m \u001b[0;32mfrom\u001b[0m \u001b[0mpysb\u001b[0m\u001b[0;34m.\u001b[0m\u001b[0mmacros\u001b[0m \u001b[0;32mimport\u001b[0m \u001b[0;34m*\u001b[0m\u001b[0;34m\u001b[0m\u001b[0;34m\u001b[0m\u001b[0m\n\u001b[1;32m      3\u001b[0m \u001b[0;31m# Create an instance of empty model\u001b[0m\u001b[0;34m\u001b[0m\u001b[0;34m\u001b[0m\u001b[0;34m\u001b[0m\u001b[0m\n\u001b[1;32m      4\u001b[0m \u001b[0mModel\u001b[0m\u001b[0;34m(\u001b[0m\u001b[0;34m)\u001b[0m\u001b[0;34m\u001b[0m\u001b[0;34m\u001b[0m\u001b[0m\n\u001b[1;32m      5\u001b[0m \u001b[0;31m# Create a monomer named 'enzyme' that only has one attribute, called 'binding1'.\u001b[0m\u001b[0;34m\u001b[0m\u001b[0;34m\u001b[0m\u001b[0;34m\u001b[0m\u001b[0m\n",
      "\u001b[0;31mModuleNotFoundError\u001b[0m: No module named 'pysb'"
     ]
    }
   ],
   "source": [
    "from pysb import Model, Monomer, Parameter, Initial, Rule, Observable\n",
    "from pysb.macros import *\n",
    "# Create an instance of empty model\n",
    "Model()\n",
    "# Create a monomer named 'enzyme' that only has one attribute, called 'binding1'.\n",
    "Monomer('enzyme', ['binding1'])\n",
    "\n",
    "# Create a monomer named 'protein' that has two attributes, called 'binding1'(bound to enzyme or not) and state (substrate or product).\n",
    "Monomer('protein', ['binding', 'state'], {'state': ['sub','pro']})\n",
    "\n",
    "# Define a forward, reverse and catalysis parameters (kf, kr, kc)\n",
    "Parameter('kf',0.003)\n",
    "Parameter('kr',0.001)\n",
    "Parameter('kc',0.002);"
   ]
  },
  {
   "cell_type": "code",
   "execution_count": null,
   "metadata": {},
   "outputs": [],
   "source": [
    "# Define a binding rule where the unbound enzyme binds the protein in the substrate state. | = reversible reaction, % = bounded state\n",
    "Rule('binding', enzyme(binding1=None) + protein(state='sub', binding=None)\n",
    "     | enzyme(binding1=1) % protein(state='sub', binding=1), kf, kr)\n",
    "\n",
    "# Create a catalysis rule where the complex dissociates and the protein change state to product (the enzyme is left unaltered). >>  = irreversible reaction\n",
    "Rule('dissociation', enzyme(binding1=1) % protein(state='sub', binding=1) \n",
    "     >> enzyme(binding1=None) + protein(state='pro', binding=None), kc)"
   ]
  },
  {
   "cell_type": "code",
   "execution_count": null,
   "metadata": {},
   "outputs": [],
   "source": [
    "# Define the initial conditions for the two objects using parameters.\n",
    "Parameter('enzyme_0', 100)\n",
    "Parameter('protein_0', 50)\n",
    "Initial(enzyme(binding1=None), enzyme_0 )\n",
    "Initial(protein(binding=None, state='sub') , protein_0)\n",
    "\n",
    "# Define the observables: total enzyme, product and the complex\n",
    "Observable('e_total', enzyme())\n",
    "Observable('e_free', enzyme(binding1=None))\n",
    "Observable('substrate', protein(binding=None, state='sub'))\n",
    "Observable('product', protein(binding=None, state='pro'))\n",
    "Observable('complex', enzyme(binding1=1) % \n",
    "           protein(binding=1, state='sub'))"
   ]
  },
  {
   "cell_type": "code",
   "execution_count": null,
   "metadata": {},
   "outputs": [],
   "source": [
    "# run a simulation\n",
    "from pysb.integrate import odesolve\n",
    "import matplotlib.pyplot as plt\n",
    "import numpy as np\n",
    "\n",
    "tspan = np.linspace(0, 100, 100)\n",
    "y = odesolve(model, tspan)"
   ]
  },
  {
   "cell_type": "code",
   "execution_count": null,
   "metadata": {},
   "outputs": [],
   "source": [
    "plt.figure()\n",
    "plt.plot(tspan, y['substrate'], label=\"substrate\")\n",
    "plt.plot(tspan, y['e_total'], label=\"e_total\")\n",
    "plt.plot(tspan, y['e_free'], label=\"e_free\")\n",
    "plt.plot(tspan, y['product'], label=\"product\")\n",
    "plt.plot(tspan, y['complex'], label=\"complex\")\n",
    "plt.xlabel('time')\n",
    "plt.ylabel('population')\n",
    "plt.ylim(0,110)\n",
    "plt.legend(loc='best')"
   ]
  },
  {
   "cell_type": "code",
   "execution_count": null,
   "metadata": {},
   "outputs": [],
   "source": [
    "#Just showing the product\n",
    "plt.plot(tspan, y['product'])\n",
    "plt.xlabel(\"time\")\n",
    "plt.ylabel(\"Product\");"
   ]
  },
  {
   "cell_type": "markdown",
   "metadata": {},
   "source": [
    "## Scikit-learn: Principal component analysis\n",
    "\n",
    "What is PCA?  \n",
    "A dimensionality reduction technique based upon linear algebra.\n",
    "\n",
    "Think of it as projections through high dimensional data that explain the most variation.  \n",
    "A benefit of a PCA is that it can show patterns in the data on a 2D plot that might not be obvious from some high n-dimensinal data.\n",
    "\n",
    "In this example, we will compare PCA to an alternate technique, linear discriminant analysis (LDA). Both are easy to perform in Scikit-learn\n",
    "\n",
    "Example: The red dots are the projections of the blue  dots onto the spinning axis. See how data from two dimensions (x, y), gets converted into one? We select for lines (*principal components*) that maximize the spread of the data. The first principal component would be when the black line aligns with the purple diagonal.\n",
    "\n",
    "![PCAUrl](https://i.stack.imgur.com/Q7HIP.gif \"PCA\")\n",
    "\n",
    "Graphic from: https://stats.stackexchange.com/questions/2691/making-sense-of-principal-component-analysis-eigenvectors-eigenvalues/140579#140579\n",
    "\n"
   ]
  },
  {
   "cell_type": "code",
   "execution_count": null,
   "metadata": {},
   "outputs": [],
   "source": [
    "import matplotlib.pyplot as plt\n",
    "\n",
    "from sklearn import datasets\n",
    "from sklearn.decomposition import PCA\n",
    "from sklearn.discriminant_analysis import LinearDiscriminantAnalysis"
   ]
  },
  {
   "cell_type": "code",
   "execution_count": null,
   "metadata": {},
   "outputs": [],
   "source": [
    "iris = datasets.load_iris() # A classic dataset that compares petal and sepal dimensions from different iris species\n",
    "\n",
    "X = iris.data\n",
    "y = iris.target\n",
    "target_names = iris.target_names"
   ]
  },
  {
   "cell_type": "markdown",
   "metadata": {},
   "source": [
    "The iris dataset has four columns: sepal length, sepal width, petal length, petal width. Let's reduce these dimensions to two with PCA."
   ]
  },
  {
   "cell_type": "code",
   "execution_count": null,
   "metadata": {},
   "outputs": [],
   "source": [
    "pca = PCA(n_components=2) # create a PCA object\n",
    "X_r = pca.fit(X).transform(X) # fit the PCA using the data, and perform the dimensionality reduction"
   ]
  },
  {
   "cell_type": "code",
   "execution_count": null,
   "metadata": {},
   "outputs": [],
   "source": [
    "lda = LinearDiscriminantAnalysis(n_components=2)\n",
    "X_r2 = lda.fit(X, y).transform(X)\n",
    "\n",
    "# Percentage of variance explained for each components\n",
    "print('explained variance ratio (first two components): %s'\n",
    "      % str(pca.explained_variance_ratio_))\n",
    "\n",
    "plt.figure()\n",
    "colors = ['navy', 'turquoise', 'darkorange']\n",
    "lw = 2\n",
    "\n",
    "for color, i, target_name in zip(colors, [0, 1, 2], target_names): # zip is a function that links iterators together\n",
    "    plt.scatter(X_r[y == i, 0], X_r[y == i, 1], color=color, alpha=.8, lw=lw,\n",
    "                label=target_name)\n",
    "plt.legend(loc='best', shadow=False, scatterpoints=1)\n",
    "plt.title('PCA of IRIS dataset')\n",
    "\n",
    "plt.figure()\n",
    "for color, i, target_name in zip(colors, [0, 1, 2], target_names):\n",
    "    plt.scatter(X_r2[y == i, 0], X_r2[y == i, 1], alpha=.8, color=color,\n",
    "                label=target_name)\n",
    "plt.legend(loc='best', shadow=False, scatterpoints=1)\n",
    "plt.title('LDA of IRIS dataset')\n",
    "\n",
    "plt.show()"
   ]
  },
  {
   "cell_type": "markdown",
   "metadata": {},
   "source": [
    "What does this mean? The true species is colored (navy, turquoise and orange). The identities aren't actually included in the analysis, which simply tries to capture variation. \n",
    "\n",
    "Look at the scatter plots. Each point is transformed data from a single measured plant. Ideally, points from the same species should \"cluster\" together. Let's compare to all possible comparisons of untransformed data. Note that the pandas library can make a scatterplot matrix, but we'll make them one at a time here."
   ]
  },
  {
   "cell_type": "code",
   "execution_count": null,
   "metadata": {},
   "outputs": [],
   "source": [
    "for color, i, target_name in zip(colors, [0, 1, 2], target_names): # zip is a function that links iterators together\n",
    "    plt.scatter(X[y == i, 0], X[y == i, 1], color=color, alpha=.8, lw=lw,\n",
    "                label=target_name)\n",
    "plt.legend(loc='best', shadow=False, scatterpoints=1)\n",
    "plt.title('Column 1 and Column 2 of IRIS dataset')\n",
    "plt.show()\n",
    "\n",
    "for color, i, target_name in zip(colors, [0, 1, 2], target_names): # zip is a function that links iterators together\n",
    "    plt.scatter(X[y == i,0], X[y == i, 2], color=color, alpha=.8, lw=lw,\n",
    "                label=target_name)\n",
    "plt.legend(loc='best', shadow=False, scatterpoints=1)\n",
    "plt.title('Column 1 and Column 3 of IRIS dataset')\n",
    "plt.show()\n",
    "\n",
    "for color, i, target_name in zip(colors, [0, 1, 2], target_names): # zip is a function that links iterators together\n",
    "    plt.scatter(X[y == i,0], X[y == i, 3], color=color, alpha=.8, lw=lw,\n",
    "                label=target_name)\n",
    "plt.legend(loc='best', shadow=False, scatterpoints=1)\n",
    "plt.title('Column 1 and Column 4 of IRIS dataset')\n",
    "plt.show()\n",
    "\n",
    "for color, i, target_name in zip(colors, [0, 1, 2], target_names): # zip is a function that links iterators together\n",
    "    plt.scatter(X[y == i, 1], X[y == i, 2], color=color, alpha=.8, lw=lw,\n",
    "                label=target_name)\n",
    "plt.legend(loc='best', shadow=False, scatterpoints=1)\n",
    "plt.title('Column 2 and Column 3 of IRIS dataset')\n",
    "plt.show()\n",
    "\n",
    "for color, i, target_name in zip(colors, [0, 1, 2], target_names): # zip is a function that links iterators together\n",
    "    plt.scatter(X[y == i, 1], X[y == i, 3], color=color, alpha=.8, lw=lw,\n",
    "                label=target_name)\n",
    "plt.legend(loc='best', shadow=False, scatterpoints=1)\n",
    "plt.title('Column 2 and Column 4 of IRIS dataset')\n",
    "plt.show()\n",
    "\n",
    "for color, i, target_name in zip(colors, [0, 1, 2], target_names): # zip is a function that links iterators together\n",
    "    plt.scatter(X[y == i, 2], X[y == i, 3], color=color, alpha=.8, lw=lw,\n",
    "                label=target_name)\n",
    "plt.legend(loc='best', shadow=False, scatterpoints=1)\n",
    "plt.title('Column 3 and Column 4 of IRIS dataset')\n",
    "plt.show()\n",
    "\n"
   ]
  },
  {
   "cell_type": "code",
   "execution_count": null,
   "metadata": {},
   "outputs": [],
   "source": [
    "pca.components_"
   ]
  },
  {
   "cell_type": "markdown",
   "metadata": {},
   "source": [
    "The first principle component (the first row) is weighted towards the third column, with near equal contributions from the first and fourth columns.\n",
    "\n",
    "The second principle component is weighted towards the first and second column. "
   ]
  },
  {
   "cell_type": "code",
   "execution_count": null,
   "metadata": {},
   "outputs": [],
   "source": []
  }
 ],
 "metadata": {
  "kernelspec": {
   "display_name": "Python 3",
   "language": "python",
   "name": "python3"
  },
  "language_info": {
   "codemirror_mode": {
    "name": "ipython",
    "version": 3
   },
   "file_extension": ".py",
   "mimetype": "text/x-python",
   "name": "python",
   "nbconvert_exporter": "python",
   "pygments_lexer": "ipython3",
   "version": "3.8.2"
  }
 },
 "nbformat": 4,
 "nbformat_minor": 4
}
