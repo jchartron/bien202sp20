{
 "cells": [
  {
   "cell_type": "markdown",
   "metadata": {},
   "source": [
    "# More COBRA models\n",
    "\n",
    "Now that we have the basics down, let's try some other analysis\n",
    "\n",
    "## Flux Variability Analysis.\n",
    "\n",
    "Recall that FVA holds an objective function constant, and then optimizes for the minimum and maximum value of each flux that can maintain that maximum. Think of this as exploring the flat edges of a high-dimensional polygon."
   ]
  },
  {
   "cell_type": "code",
   "execution_count": 1,
   "metadata": {},
   "outputs": [],
   "source": [
    "from cobra.io import read_sbml_model"
   ]
  },
  {
   "cell_type": "code",
   "execution_count": 2,
   "metadata": {},
   "outputs": [],
   "source": [
    "model = read_sbml_model('data/iJO1366.xml.gz')"
   ]
  },
  {
   "cell_type": "code",
   "execution_count": 4,
   "metadata": {},
   "outputs": [],
   "source": [
    "from cobra.flux_analysis import flux_variability_analysis"
   ]
  },
  {
   "cell_type": "code",
   "execution_count": 5,
   "metadata": {},
   "outputs": [],
   "source": [
    "fvaresults = flux_variability_analysis(model)\n",
    "fvaresults\n",
    "subset = fvaresults.sort_values(by='maximum').head(15) # This will just take the first 15 entries, sorted by maximum"
   ]
  },
  {
   "cell_type": "code",
   "execution_count": 6,
   "metadata": {},
   "outputs": [
    {
     "data": {
      "text/html": [
       "<div>\n",
       "<style scoped>\n",
       "    .dataframe tbody tr th:only-of-type {\n",
       "        vertical-align: middle;\n",
       "    }\n",
       "\n",
       "    .dataframe tbody tr th {\n",
       "        vertical-align: top;\n",
       "    }\n",
       "\n",
       "    .dataframe thead th {\n",
       "        text-align: right;\n",
       "    }\n",
       "</style>\n",
       "<table border=\"1\" class=\"dataframe\">\n",
       "  <thead>\n",
       "    <tr style=\"text-align: right;\">\n",
       "      <th></th>\n",
       "      <th>minimum</th>\n",
       "      <th>maximum</th>\n",
       "    </tr>\n",
       "  </thead>\n",
       "  <tbody>\n",
       "    <tr>\n",
       "      <th>DM_4crsol_c</th>\n",
       "      <td>0.000219</td>\n",
       "      <td>2.190689e-04</td>\n",
       "    </tr>\n",
       "    <tr>\n",
       "      <th>DM_5drib_c</th>\n",
       "      <td>0.000221</td>\n",
       "      <td>2.210337e-04</td>\n",
       "    </tr>\n",
       "    <tr>\n",
       "      <th>DM_aacald_c</th>\n",
       "      <td>0.000000</td>\n",
       "      <td>0.000000e+00</td>\n",
       "    </tr>\n",
       "    <tr>\n",
       "      <th>DM_amob_c</th>\n",
       "      <td>0.000002</td>\n",
       "      <td>1.964744e-06</td>\n",
       "    </tr>\n",
       "    <tr>\n",
       "      <th>DM_mththf_c</th>\n",
       "      <td>0.000440</td>\n",
       "      <td>4.401026e-04</td>\n",
       "    </tr>\n",
       "    <tr>\n",
       "      <th>...</th>\n",
       "      <td>...</td>\n",
       "      <td>...</td>\n",
       "    </tr>\n",
       "    <tr>\n",
       "      <th>ZN2abcpp</th>\n",
       "      <td>0.000000</td>\n",
       "      <td>1.092904e-12</td>\n",
       "    </tr>\n",
       "    <tr>\n",
       "      <th>ZN2t3pp</th>\n",
       "      <td>0.000000</td>\n",
       "      <td>4.371614e-12</td>\n",
       "    </tr>\n",
       "    <tr>\n",
       "      <th>ZN2tpp</th>\n",
       "      <td>0.000335</td>\n",
       "      <td>3.349888e-04</td>\n",
       "    </tr>\n",
       "    <tr>\n",
       "      <th>ZNabcpp</th>\n",
       "      <td>0.000000</td>\n",
       "      <td>1.412211e-12</td>\n",
       "    </tr>\n",
       "    <tr>\n",
       "      <th>Zn2tex</th>\n",
       "      <td>0.000335</td>\n",
       "      <td>3.349888e-04</td>\n",
       "    </tr>\n",
       "  </tbody>\n",
       "</table>\n",
       "<p>2583 rows × 2 columns</p>\n",
       "</div>"
      ],
      "text/plain": [
       "              minimum       maximum\n",
       "DM_4crsol_c  0.000219  2.190689e-04\n",
       "DM_5drib_c   0.000221  2.210337e-04\n",
       "DM_aacald_c  0.000000  0.000000e+00\n",
       "DM_amob_c    0.000002  1.964744e-06\n",
       "DM_mththf_c  0.000440  4.401026e-04\n",
       "...               ...           ...\n",
       "ZN2abcpp     0.000000  1.092904e-12\n",
       "ZN2t3pp      0.000000  4.371614e-12\n",
       "ZN2tpp       0.000335  3.349888e-04\n",
       "ZNabcpp      0.000000  1.412211e-12\n",
       "Zn2tex       0.000335  3.349888e-04\n",
       "\n",
       "[2583 rows x 2 columns]"
      ]
     },
     "execution_count": 6,
     "metadata": {},
     "output_type": "execute_result"
    }
   ],
   "source": [
    "fvaresults"
   ]
  },
  {
   "cell_type": "code",
   "execution_count": 8,
   "metadata": {},
   "outputs": [
    {
     "data": {
      "text/plain": [
       "<BarContainer object of 15 artists>"
      ]
     },
     "execution_count": 8,
     "metadata": {},
     "output_type": "execute_result"
    },
    {
     "data": {
      "image/png": "[encoded data removed]",
      "text/plain": [
       "<Figure size 1080x288 with 1 Axes>"
      ]
     },
     "metadata": {
      "needs_background": "light"
     },
     "output_type": "display_data"
    }
   ],
   "source": [
    "%matplotlib inline\n",
    "import matplotlib.pyplot as plt\n",
    "plt.rcParams[\"figure.figsize\"]=15,4\n",
    "plt.bar(x=subset.index, height=subset.maximum, bottom = subset.minimum) \n",
    "   \n",
    "    # check out https://matplotlib.org/3.2.1/api/_as_gen/matplotlib.pyplot.bar.html"
   ]
  },
  {
   "cell_type": "code",
   "execution_count": null,
   "metadata": {},
   "outputs": [],
   "source": [
    "model.optimize()\n",
    "model.summary(fva=0.95)"
   ]
  },
  {
   "cell_type": "markdown",
   "metadata": {},
   "source": [
    "## Simulating gene deletions\n",
    "\n",
    "We can take advantage of the gene to reaction linkage to simulate the effect of gene deletions. This is going to be similar to manually setting reaction fluxes to 0, but accounts for more realistic situations:\n",
    "\n",
    "1. When a gene catalyzes more than one reaction\n",
    "2. When more than one gene product can catalyze the same reaction\n",
    "\n",
    "Let's try deleting phosphofructokinase!\n",
    "\n",
    "First, let's find the associated genes."
   ]
  },
  {
   "cell_type": "code",
   "execution_count": 9,
   "metadata": {},
   "outputs": [
    {
     "data": {
      "text/plain": [
       "[<Reaction PFK at 0x7ff739294cd0>,\n",
       " <Reaction PFK_2 at 0x7ff7392e5f40>,\n",
       " <Reaction PFK_3 at 0x7ff739294f70>]"
      ]
     },
     "execution_count": 9,
     "metadata": {},
     "output_type": "execute_result"
    }
   ],
   "source": [
    "model.reactions.query(\"PFK\")"
   ]
  },
  {
   "cell_type": "code",
   "execution_count": 10,
   "metadata": {},
   "outputs": [
    {
     "name": "stdout",
     "output_type": "stream",
     "text": [
      "Phosphofructokinase PFK: atp_c + f6p_c --> adp_c + fdp_c + h_c\n",
      "Phosphofructokinase PFK_2: atp_c + tag6p__D_c --> adp_c + h_c + tagdp__D_c\n",
      "Phosphofructokinase (s7p) PFK_3: atp_c + s7p_c --> adp_c + h_c + s17bp_c\n"
     ]
    },
    {
     "data": {
      "text/plain": [
       "[None, None, None]"
      ]
     },
     "execution_count": 10,
     "metadata": {},
     "output_type": "execute_result"
    }
   ],
   "source": [
    "[print(reaction.name, reaction) for reaction in model.reactions.query(\"PFK\")]"
   ]
  },
  {
   "cell_type": "code",
   "execution_count": 11,
   "metadata": {},
   "outputs": [
    {
     "data": {
      "text/plain": [
       "frozenset({<Gene b1723 at 0x7ff73a1c2d90>, <Gene b3916 at 0x7ff73a1c2dc0>})"
      ]
     },
     "execution_count": 11,
     "metadata": {},
     "output_type": "execute_result"
    }
   ],
   "source": [
    "model.reactions.PFK.genes"
   ]
  },
  {
   "cell_type": "markdown",
   "metadata": {},
   "source": [
    "We see that two genes, b1723 and b3916, encode phosphofructokinase. Let's try single mutants as well as double mutants."
   ]
  },
  {
   "cell_type": "code",
   "execution_count": 12,
   "metadata": {},
   "outputs": [
    {
     "name": "stdout",
     "output_type": "stream",
     "text": [
      "complete model:  <Solution 0.982 at 0x7ff730390280>\n",
      "pfkA knocked out:  <Solution 0.982 at 0x7ff73039dc10>\n",
      "pfkB knocked out:  <Solution 0.982 at 0x7ff73039dc70>\n",
      "pfkB and pfkB knocked out:  <Solution 0.975 at 0x7ff73039dc40>\n"
     ]
    }
   ],
   "source": [
    "print('complete model: ', model.optimize())\n",
    "with model: # This format prevents overwriting the original model\n",
    "    model.genes.b1723.knock_out() # knock_out\n",
    "    print('pfkA knocked out: ', model.optimize()) \n",
    "with model:\n",
    "    model.genes.b3916.knock_out()\n",
    "    print('pfkB knocked out: ', model.optimize()) \n",
    "with model:\n",
    "    model.genes.b1723.knock_out()\n",
    "    model.genes.b3916.knock_out()\n",
    "    print('pfkB and pfkB knocked out: ', model.optimize()) "
   ]
  },
  {
   "cell_type": "markdown",
   "metadata": {},
   "source": [
    "Unsurprisingly, single deletions don't slow cell growth, because another isoform can (in theory) pick up the slack. But a double deletion isn't so bad in these conditions, either! How could this be the case?"
   ]
  },
  {
   "cell_type": "code",
   "execution_count": 13,
   "metadata": {},
   "outputs": [],
   "source": [
    "newmodel = model.copy()\n",
    "newmodel.genes.b1723.knock_out()\n",
    "newmodel.genes.b3916.knock_out()\n",
    "nopfk = newmodel.optimize()"
   ]
  },
  {
   "cell_type": "code",
   "execution_count": 14,
   "metadata": {},
   "outputs": [
    {
     "name": "stdout",
     "output_type": "stream",
     "text": [
      "Downloading Map from https://escher.github.io/1-0-0/6/maps/Escherichia%20coli/iJO1366.Central%20metabolism.json\n"
     ]
    },
    {
     "data": {
      "application/vnd.jupyter.widget-view+json": {
       "model_id": "ea84773451da4529b31c5f167c384e9f",
       "version_major": 2,
       "version_minor": 0
      },
      "text/plain": [
       "Builder(reaction_data={'DM_4crsol_c': 0.00021748066474178027, 'DM_5drib_c': 0.0002194311639770834, 'DM_aacald_…"
      ]
     },
     "metadata": {},
     "output_type": "display_data"
    }
   ],
   "source": [
    "import escher\n",
    "escher.Builder(map_name='iJO1366.Central metabolism',\n",
    "                   model = newmodel,\n",
    "                   reaction_data=dict(nopfk.fluxes))"
   ]
  },
  {
   "cell_type": "markdown",
   "metadata": {},
   "source": [
    "Hmm, it seems that F6PA is picking up the slack from the loss of PFK. We can predict that deleting the genes involved in this reaction would be fatal. Let's test.\n",
    "\n",
    "First, can we check for differences programatically?"
   ]
  },
  {
   "cell_type": "code",
   "execution_count": 15,
   "metadata": {},
   "outputs": [],
   "source": [
    "diff = newmodel.optimize().fluxes - model.optimize().fluxes"
   ]
  },
  {
   "cell_type": "code",
   "execution_count": 16,
   "metadata": {},
   "outputs": [
    {
     "data": {
      "text/plain": [
       "PFK        -6.918811\n",
       "FBA        -6.918811\n",
       "GLCptspp   -6.868649\n",
       "PGI        -5.918065\n",
       "ADK1       -3.928345\n",
       "              ...   \n",
       "XYLI2       6.034659\n",
       "HEX7        6.034659\n",
       "GLCt2pp     6.868649\n",
       "DHAPT       6.963875\n",
       "F6PA        6.963875\n",
       "Name: fluxes, Length: 2583, dtype: float64"
      ]
     },
     "execution_count": 16,
     "metadata": {},
     "output_type": "execute_result"
    }
   ],
   "source": [
    "diff.sort_values()"
   ]
  },
  {
   "cell_type": "markdown",
   "metadata": {},
   "source": [
    "Yes, F6PA and DHAPT seem to increase in flux just as much as PFK and FBA drop."
   ]
  },
  {
   "cell_type": "code",
   "execution_count": 17,
   "metadata": {},
   "outputs": [
    {
     "data": {
      "text/plain": [
       "frozenset({<Gene b0825 at 0x7ff730281340>, <Gene b3946 at 0x7ff730281370>})"
      ]
     },
     "execution_count": 17,
     "metadata": {},
     "output_type": "execute_result"
    }
   ],
   "source": [
    "newmodel.reactions.F6PA.genes"
   ]
  },
  {
   "cell_type": "markdown",
   "metadata": {},
   "source": [
    "There are two genes involved with F6PA, let's delete both of them and see if our quadruple mutant survives."
   ]
  },
  {
   "cell_type": "code",
   "execution_count": 18,
   "metadata": {},
   "outputs": [
    {
     "name": "stdout",
     "output_type": "stream",
     "text": [
      "F6PA_1 knocked out:  <Solution 0.975 at 0x7ff73034ffa0>\n",
      "F6PA_1 and F6PA_2 knocked out:  <Solution 0.946 at 0x7ff72acd14f0>\n"
     ]
    }
   ],
   "source": [
    "with newmodel:\n",
    "    newmodel.genes.b0825.knock_out()\n",
    "    print('F6PA_1 knocked out: ', newmodel.optimize()) \n",
    "with newmodel:\n",
    "    newmodel.genes.b0825.knock_out()\n",
    "    newmodel.genes.b3946.knock_out()\n",
    "    print('F6PA_1 and F6PA_2 knocked out: ', newmodel.optimize()) "
   ]
  },
  {
   "cell_type": "markdown",
   "metadata": {},
   "source": [
    "What have we learned from this? We've demonstrated that central metabolism in E. coli can be very robust to gene deletions! And by using mass balance, we can see that textbook components of glycolysis can be removed with very little change in growth rate. With some loops, you could fairly easily write a script to test the effect of every pairwise, triple or quadruple mutant!"
   ]
  },
  {
   "cell_type": "markdown",
   "metadata": {},
   "source": [
    "## Finding all essential genes\n",
    "\n",
    "We've seen how we could go through cycles of hypothesis generation and prediction, and we can foresee how a brute force approach could work. Let's take a brute force approach to identify all essential genes.\n",
    "\n",
    "Fortunately, cobrapy has a function to do this for us."
   ]
  },
  {
   "cell_type": "code",
   "execution_count": 19,
   "metadata": {},
   "outputs": [
    {
     "name": "stdout",
     "output_type": "stream",
     "text": [
      "ribF\n",
      "lpxK\n",
      "moaD\n",
      "waaA\n",
      "luxS\n",
      "dapD\n",
      "kdsB\n",
      "glmU\n",
      "panB\n",
      "mog\n",
      "cysI\n",
      "cysJ\n",
      "purH\n",
      "thiI\n",
      "murJ\n",
      "hemL\n",
      "moaE\n",
      "thiS\n",
      "moeB\n",
      "thiF\n",
      "thiH\n",
      "metF\n",
      "cysD\n",
      "gpsA\n",
      "thyA\n",
      "cysN\n",
      "ispB\n",
      "hemH\n",
      "thiL\n",
      "serC\n",
      "thiE\n",
      "pyrF\n",
      "dapE\n",
      "ubiX\n",
      "ubiD\n",
      "cysE\n",
      "pyrE\n",
      "trpA\n",
      "trpB\n",
      "nadK\n",
      "nadE\n",
      "proC\n",
      "thiG\n",
      "lpxD\n",
      "murE\n",
      "cysG\n",
      "panC\n",
      "lpxA\n",
      "murA\n",
      "mraY\n",
      "cysH\n",
      "murG\n",
      "metB\n",
      "murD\n",
      "murC\n",
      "murB\n",
      "pdxJ\n",
      "aldA\n",
      "pdxA\n",
      "ispU\n",
      "nadD\n",
      "pdxB\n",
      "nadC\n",
      "glmS\n",
      "hemE\n",
      "lpxC\n",
      "glmM\n",
      "murF\n",
      "hemD\n",
      "ribB\n",
      "lptG\n",
      "aroC\n",
      "fabI\n",
      "argG\n",
      "nadA\n",
      "bioD\n",
      "cdsA\n",
      "lptB\n",
      "lptC\n",
      "ubiC\n",
      "fabH\n",
      "lpxH\n",
      "asd\n",
      "argE\n",
      "pheA\n",
      "tyrA\n",
      "lptA\n",
      "dapF\n",
      "lptF\n",
      "gmk\n",
      "hisD\n",
      "hisB\n",
      "argD\n",
      "ilvD\n",
      "fabZ\n",
      "panD\n",
      "bioH\n",
      "coaA\n",
      "fabG\n",
      "pyrB\n",
      "fabB\n",
      "thiD\n",
      "hemC\n",
      "dapB\n",
      "pabC\n",
      "nadB\n",
      "dapA\n",
      "murI\n",
      "purF\n",
      "folK\n",
      "aspC\n",
      "pabA\n",
      "pabB\n",
      "lpxB\n",
      "purA\n",
      "thrB\n",
      "folC\n",
      "hemB\n",
      "msbA\n",
      "gltX\n",
      "hemA\n",
      "hisC\n",
      "thrC\n",
      "dfp\n",
      "metA\n",
      "folB\n",
      "moaA\n",
      "moaC\n",
      "pyrC\n",
      "folP\n",
      "mtn\n",
      "hemG\n",
      "bioC\n",
      "aroB\n",
      "acpP\n",
      "aroD\n",
      "ispA\n",
      "purD\n",
      "hisG\n",
      "iscS\n",
      "purM\n",
      "ispH\n",
      "hisI\n",
      "bioA\n",
      "cyaY\n",
      "purC\n",
      "gltA\n",
      "purL\n",
      "thiC\n",
      "hisA\n",
      "icd\n",
      "pyrG\n",
      "aroA\n",
      "fabD\n",
      "cysC\n",
      "psd\n",
      "purB\n",
      "moeA\n",
      "hisH\n",
      "pssA\n",
      "hisF\n",
      "guaA\n",
      "trpD\n",
      "mobA\n",
      "trpE\n",
      "trpC\n",
      "ilvE\n",
      "coaD\n",
      "bioF\n",
      "coaE\n",
      "\n",
      "cysQ\n",
      "bioB\n",
      "ilvC\n",
      "accB\n",
      "ribD\n",
      "plsC\n",
      "argC\n",
      "accA\n",
      "leuB\n",
      "accD\n",
      "leuC\n",
      "leuD\n",
      "ispG\n",
      "leuA\n",
      "ispF\n",
      "yrbG\n",
      "tmk\n",
      "accC\n",
      "ispD\n",
      "kdsC\n",
      "purK\n",
      "purE\n",
      "metK\n",
      "kdsA\n",
      "argB\n",
      "argA\n",
      "folE\n",
      "lysA\n",
      "ubiA\n",
      "ribE\n",
      "argH\n",
      "dxs\n",
      "zupT\n",
      "ribC\n",
      "dxr\n",
      "ribA\n",
      "ispE\n"
     ]
    }
   ],
   "source": [
    "from cobra.flux_analysis import find_essential_genes\n",
    "essential = find_essential_genes(model)\n",
    "[print(gene.name) for gene in essential];"
   ]
  },
  {
   "cell_type": "markdown",
   "metadata": {},
   "source": [
    "# Pathway engineering\n",
    "\n",
    "By now I hope I've demonstrated how we can use genome-scale metabolic models to predict phenotypes. \n",
    "Can we now use this approach to tie new pathways into a cell, and estimate whether if we can produce reasonable yields? Can we predict changes in growth rate?\n",
    "\n",
    "We'll create some reactions and metabolites first, and then place them into the model. We'll need to import some functions from cobra to do this."
   ]
  },
  {
   "cell_type": "code",
   "execution_count": 20,
   "metadata": {},
   "outputs": [],
   "source": [
    "from cobra import Reaction, Metabolite\n",
    "model = read_sbml_model('data/iJO1366.xml.gz')"
   ]
  },
  {
   "cell_type": "markdown",
   "metadata": {},
   "source": [
    "We'll create a reaction called alchemy"
   ]
  },
  {
   "cell_type": "code",
   "execution_count": 21,
   "metadata": {},
   "outputs": [],
   "source": [
    "new_reaction = Reaction('alchemy')"
   ]
  },
  {
   "cell_type": "markdown",
   "metadata": {},
   "source": [
    "It will turn phosphate into gold, so we'll need to define gold as a metabolite."
   ]
  },
  {
   "cell_type": "code",
   "execution_count": 22,
   "metadata": {},
   "outputs": [],
   "source": [
    "gold = Metabolite(id='gold_c', compartment='c', name='GOLD')"
   ]
  },
  {
   "cell_type": "markdown",
   "metadata": {},
   "source": [
    "Now that we have a metabolite, we can construct a reaction around it. We'll add metabolites to the reaction object. We'll have an ATP consumed, generating gold and an ATP. This will permantly remove a phosphate from the system, but return ADP as a metabolite."
   ]
  },
  {
   "cell_type": "code",
   "execution_count": 23,
   "metadata": {},
   "outputs": [],
   "source": [
    "new_reaction.add_metabolites({model.metabolites.atp_c: -1, gold: 1, model.metabolites.adp_c: 1})"
   ]
  },
  {
   "cell_type": "markdown",
   "metadata": {},
   "source": [
    "We'll add the new reaction to the model. Note that the add_reactions method requires a list input, even if it is just one item."
   ]
  },
  {
   "cell_type": "code",
   "execution_count": 24,
   "metadata": {},
   "outputs": [],
   "source": [
    "model.add_reactions([new_reaction])"
   ]
  },
  {
   "cell_type": "markdown",
   "metadata": {},
   "source": [
    "If we were to run the simulation now, it would fail to produce gold, because there is no demand being placed upon it. Rather than an export reaction, we'll say that gold is leaving the system. We can define a new boundary condition as follows."
   ]
  },
  {
   "cell_type": "code",
   "execution_count": 25,
   "metadata": {},
   "outputs": [
    {
     "data": {
      "text/html": [
       "\n",
       "        <table>\n",
       "            <tr>\n",
       "                <td><strong>Reaction identifier</strong></td><td>DM_gold_c</td>\n",
       "            </tr><tr>\n",
       "                <td><strong>Name</strong></td><td>GOLD demand</td>\n",
       "            </tr><tr>\n",
       "                <td><strong>Memory address</strong></td>\n",
       "                <td>0x07ff72ab47f70</td>\n",
       "            </tr><tr>\n",
       "                <td><strong>Stoichiometry</strong></td>\n",
       "                <td>\n",
       "                    <p style='text-align:right'>gold_c --> </p>\n",
       "                    <p style='text-align:right'>GOLD --> </p>\n",
       "                </td>\n",
       "            </tr><tr>\n",
       "                <td><strong>GPR</strong></td><td></td>\n",
       "            </tr><tr>\n",
       "                <td><strong>Lower bound</strong></td><td>0</td>\n",
       "            </tr><tr>\n",
       "                <td><strong>Upper bound</strong></td><td>1000.0</td>\n",
       "            </tr>\n",
       "        </table>\n",
       "        "
      ],
      "text/plain": [
       "<Reaction DM_gold_c at 0x7ff72ab47f70>"
      ]
     },
     "execution_count": 25,
     "metadata": {},
     "output_type": "execute_result"
    }
   ],
   "source": [
    "model.add_boundary(model.metabolites.gold_c, type='demand')"
   ]
  },
  {
   "cell_type": "markdown",
   "metadata": {},
   "source": [
    "We're still going to use the biomass objective function, so there will be no \"incentive\" to produce gold. We'll force the system by introducing a positive, lower boundary."
   ]
  },
  {
   "cell_type": "code",
   "execution_count": 26,
   "metadata": {},
   "outputs": [],
   "source": [
    "model.reactions.alchemy.bounds = (200, 1000)"
   ]
  },
  {
   "cell_type": "code",
   "execution_count": 27,
   "metadata": {},
   "outputs": [
    {
     "data": {
      "text/html": [
       "\n",
       "        <table>\n",
       "            <tr>\n",
       "                <td><strong>Reaction identifier</strong></td><td>alchemy</td>\n",
       "            </tr><tr>\n",
       "                <td><strong>Name</strong></td><td></td>\n",
       "            </tr><tr>\n",
       "                <td><strong>Memory address</strong></td>\n",
       "                <td>0x07ff7280add90</td>\n",
       "            </tr><tr>\n",
       "                <td><strong>Stoichiometry</strong></td>\n",
       "                <td>\n",
       "                    <p style='text-align:right'>atp_c --> adp_c + gold_c</p>\n",
       "                    <p style='text-align:right'>ATP --> ADP + GOLD</p>\n",
       "                </td>\n",
       "            </tr><tr>\n",
       "                <td><strong>GPR</strong></td><td></td>\n",
       "            </tr><tr>\n",
       "                <td><strong>Lower bound</strong></td><td>200</td>\n",
       "            </tr><tr>\n",
       "                <td><strong>Upper bound</strong></td><td>1000</td>\n",
       "            </tr>\n",
       "        </table>\n",
       "        "
      ],
      "text/plain": [
       "<Reaction alchemy at 0x7ff7280add90>"
      ]
     },
     "execution_count": 27,
     "metadata": {},
     "output_type": "execute_result"
    }
   ],
   "source": [
    "model.reactions.alchemy"
   ]
  },
  {
   "cell_type": "code",
   "execution_count": 28,
   "metadata": {},
   "outputs": [
    {
     "data": {
      "text/latex": [
       "$\\displaystyle 1.0 BIOMASS_{Ec iJO1366 core 53p95M} - 1.0 BIOMASS_{Ec iJO1366 core 53p95M reverse 5c8b1}$"
      ],
      "text/plain": [
       "1.0*BIOMASS_Ec_iJO1366_core_53p95M - 1.0*BIOMASS_Ec_iJO1366_core_53p95M_reverse_5c8b1"
      ]
     },
     "execution_count": 28,
     "metadata": {},
     "output_type": "execute_result"
    }
   ],
   "source": [
    "model.objective.expression"
   ]
  },
  {
   "cell_type": "code",
   "execution_count": 29,
   "metadata": {},
   "outputs": [],
   "source": [
    "opt = model.optimize()"
   ]
  },
  {
   "cell_type": "code",
   "execution_count": 30,
   "metadata": {},
   "outputs": [
    {
     "name": "stdout",
     "output_type": "stream",
     "text": [
      "Biomass flux: 0.13594895431633267\n",
      "Gold flux: 200.0\n"
     ]
    }
   ],
   "source": [
    "print(\"Biomass flux:\", opt.fluxes.BIOMASS_Ec_iJO1366_core_53p95M)\n",
    "print(\"Gold flux:\", opt.fluxes.alchemy)"
   ]
  },
  {
   "cell_type": "markdown",
   "metadata": {},
   "source": [
    "We can see that this puts a heavy burden on cell growth rates. We can predict that the cell would be starved of phosphate, and by using some of the analytical tools described so far (reduced costs, shadow price, FVA), you could imagine how we could go about determining bottlenecks.\n",
    "\n",
    "We could also do a deletion series and see if there are any E. coli proteins that are now detrimental for growth under these conditions. Maybe their deletion would have slowed growth in non-productive cells, but now perhaps there pathways that act as a drain on the system.\n",
    "\n",
    "This wraps up the basics, but going forward, there are lots of approaches to formalize strain engineering by considering growth rates!"
   ]
  }
 ],
 "metadata": {
  "kernelspec": {
   "display_name": "Python 3",
   "language": "python",
   "name": "python3"
  },
  "language_info": {
   "codemirror_mode": {
    "name": "ipython",
    "version": 3
   },
   "file_extension": ".py",
   "mimetype": "text/x-python",
   "name": "python",
   "nbconvert_exporter": "python",
   "pygments_lexer": "ipython3",
   "version": "3.8.2"
  }
 },
 "nbformat": 4,
 "nbformat_minor": 4
}
