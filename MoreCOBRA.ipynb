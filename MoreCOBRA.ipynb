{
 "cells": [
  {
   "cell_type": "markdown",
   "metadata": {},
   "source": [
    "# More COBRA models\n",
    "\n",
    "Now that we have the basics down, let's try some other analysis\n",
    "\n",
    "## Flux Variability Analysis.\n",
    "\n",
    "Recall that FVA holds an objective function constant, and then optimizes for the minimum and maximum value of each flux that can maintain that maximum. Think of this as exploring the flat edges of a high-dimensional polygon."
   ]
  },
  {
   "cell_type": "code",
   "execution_count": null,
   "metadata": {},
   "outputs": [],
   "source": [
    "from cobra.io import read_sbml_model"
   ]
  },
  {
   "cell_type": "code",
   "execution_count": null,
   "metadata": {},
   "outputs": [],
   "source": [
    "model = read_sbml_model('data/iJO1366.xml.gz')"
   ]
  },
  {
   "cell_type": "code",
   "execution_count": null,
   "metadata": {},
   "outputs": [],
   "source": [
    "from cobra.flux_analysis import flux_variability_analysis"
   ]
  },
  {
   "cell_type": "code",
   "execution_count": null,
   "metadata": {},
   "outputs": [],
   "source": [
    "fvaresults = flux_variability_analysis(model)\n",
    "fvaresults\n",
    "subset = fvaresults.sort_values(by='maximum').head(15) # This will just take the first 15 entries, sorted by maximum"
   ]
  },
  {
   "cell_type": "code",
   "execution_count": null,
   "metadata": {},
   "outputs": [],
   "source": [
    "%matplotlib inline\n",
    "import matplotlib.pyplot as plt\n",
    "plt.rcParams[\"figure.figsize\"]=15,4\n",
    "plt.bar(x=subset.index, height=subset.maximum, bottom = subset.minimum) \n",
    "   \n",
    "    # check out https://matplotlib.org/3.2.1/api/_as_gen/matplotlib.pyplot.bar.html"
   ]
  },
  {
   "cell_type": "code",
   "execution_count": null,
   "metadata": {},
   "outputs": [],
   "source": [
    "model.optimize()\n",
    "model.summary(fva=0.95)"
   ]
  },
  {
   "cell_type": "markdown",
   "metadata": {},
   "source": [
    "## Simulating gene deletions\n",
    "\n",
    "We can take advantage of the gene to reaction linkage to simulate the effect of gene deletions. This is going to be similar to manually setting reaction fluxes to 0, but accounts for more realistic situations:\n",
    "\n",
    "1. When a gene catalyzes more than one reaction\n",
    "2. When more than one gene product can catalyze the same reaction\n",
    "\n",
    "Let's try deleting phosphofructokinase!\n",
    "\n",
    "First, let's find the associated genes."
   ]
  },
  {
   "cell_type": "code",
   "execution_count": null,
   "metadata": {},
   "outputs": [],
   "source": [
    "model.reactions.query(\"PFK\")"
   ]
  },
  {
   "cell_type": "code",
   "execution_count": null,
   "metadata": {},
   "outputs": [],
   "source": [
    "[print(reaction.name, reaction) for reaction in model.reactions.query(\"PFK\")]"
   ]
  },
  {
   "cell_type": "code",
   "execution_count": null,
   "metadata": {},
   "outputs": [],
   "source": [
    "model.reactions.PFK.genes"
   ]
  },
  {
   "cell_type": "markdown",
   "metadata": {},
   "source": [
    "We see that two genes, b1723 and b3916, encode phosphofructokinase. Let's try single mutants as well as double mutants."
   ]
  },
  {
   "cell_type": "code",
   "execution_count": null,
   "metadata": {},
   "outputs": [],
   "source": [
    "print('complete model: ', model.optimize())\n",
    "with model: # This format prevents overwriting the original model\n",
    "    model.genes.b1723.knock_out()\n",
    "    print('pfkA knocked out: ', model.optimize()) \n",
    "with model:\n",
    "    model.genes.b3916.knock_out()\n",
    "    print('pfkB knocked out: ', model.optimize()) \n",
    "with model:\n",
    "    model.genes.b1723.knock_out()\n",
    "    model.genes.b3916.knock_out()\n",
    "    print('pfkB and pfkB knocked out: ', model.optimize()) "
   ]
  },
  {
   "cell_type": "markdown",
   "metadata": {},
   "source": [
    "Unsurprisingly, single deletions don't slow cell growth, because another isoform can (in theory) pick up the slack. But a double deletion isn't so bad in these conditions, either! How could this be the case?"
   ]
  },
  {
   "cell_type": "code",
   "execution_count": null,
   "metadata": {},
   "outputs": [],
   "source": [
    "newmodel = model.copy()\n",
    "newmodel.genes.b1723.knock_out()\n",
    "newmodel.genes.b3916.knock_out()\n",
    "nopfk = newmodel.optimize()"
   ]
  },
  {
   "cell_type": "code",
   "execution_count": null,
   "metadata": {},
   "outputs": [],
   "source": [
    "import escher\n",
    "escher.Builder(map_name='iJO1366.Central metabolism',\n",
    "                   model = newmodel,\n",
    "                   reaction_data=dict(nopfk.fluxes))"
   ]
  },
  {
   "cell_type": "markdown",
   "metadata": {},
   "source": [
    "Hmm, it seems that F6PA is picking up the slack from the loss of PFK. We can predict that deleting the genes involved in this reaction would be fatal. Let's test.\n",
    "\n",
    "First, can we check for differences programatically?"
   ]
  },
  {
   "cell_type": "code",
   "execution_count": null,
   "metadata": {},
   "outputs": [],
   "source": [
    "diff = newmodel.optimize().fluxes - model.optimize().fluxes"
   ]
  },
  {
   "cell_type": "code",
   "execution_count": null,
   "metadata": {},
   "outputs": [],
   "source": [
    "diff.sort_values()"
   ]
  },
  {
   "cell_type": "markdown",
   "metadata": {},
   "source": [
    "Yes, F6PA and DHAPT seem to increase in flux just as much as PFK and FBA drop."
   ]
  },
  {
   "cell_type": "code",
   "execution_count": null,
   "metadata": {},
   "outputs": [],
   "source": [
    "newmodel.reactions.F6PA.genes"
   ]
  },
  {
   "cell_type": "markdown",
   "metadata": {},
   "source": [
    "There are two genes involved with F6PA, let's delete both of them and see if our quadruple mutant survives."
   ]
  },
  {
   "cell_type": "code",
   "execution_count": null,
   "metadata": {},
   "outputs": [],
   "source": [
    "with newmodel:\n",
    "    newmodel.genes.b0825.knock_out()\n",
    "    print('F6PA_1 knocked out: ', newmodel.optimize()) \n",
    "with newmodel:\n",
    "    newmodel.genes.b0825.knock_out()\n",
    "    newmodel.genes.b3946.knock_out()\n",
    "    print('F6PA_1 and F6PA_2 knocked out: ', newmodel.optimize()) "
   ]
  },
  {
   "cell_type": "markdown",
   "metadata": {},
   "source": [
    "What have we learned from this? We've demonstrated that central metabolism in E. coli can be very robust to gene deletions! And by using mass balance, we can see that textbook components of glycolysis can be removed with very little change in growth rate. With some loops, you could fairly easily write a script to test the effect of every pairwise, triple or quadruple mutant!"
   ]
  },
  {
   "cell_type": "markdown",
   "metadata": {},
   "source": [
    "## Finding all essential genes\n",
    "\n",
    "We've seen how we could go through cycles of hypothesis generation and prediction, and we can foresee how a brute force approach could work. Let's take a brute force approach to identify all essential genes.\n",
    "\n",
    "Fortunately, cobrapy has a function to do this for us."
   ]
  },
  {
   "cell_type": "code",
   "execution_count": null,
   "metadata": {},
   "outputs": [],
   "source": [
    "from cobra.flux_analysis import find_essential_genes\n",
    "essential = find_essential_genes(model)\n",
    "[print(gene.name) for gene in essential];"
   ]
  },
  {
   "cell_type": "markdown",
   "metadata": {},
   "source": [
    "# Pathway engineering\n",
    "\n",
    "By now I hope I've demonstrated how we can use genome-scale metabolic models to predict phenotypes. \n",
    "Can we now use this approach to tie new pathways into a cell, and estimate whether if we can produce reasonable yields? Can we predict changes in growth rate?\n",
    "\n",
    "We'll create some reactions and metabolites first, and then place them into the model. We'll need to import some functions from cobra to do this."
   ]
  },
  {
   "cell_type": "code",
   "execution_count": null,
   "metadata": {},
   "outputs": [],
   "source": [
    "from cobra import Reaction, Metabolite\n",
    "model = read_sbml_model('data/iJO1366.xml.gz')"
   ]
  },
  {
   "cell_type": "markdown",
   "metadata": {},
   "source": [
    "We'll create a reaction called alchemy"
   ]
  },
  {
   "cell_type": "code",
   "execution_count": null,
   "metadata": {},
   "outputs": [],
   "source": [
    "new_reaction = Reaction('alchemy')"
   ]
  },
  {
   "cell_type": "markdown",
   "metadata": {},
   "source": [
    "It will turn phosphate into gold, so we'll need to define gold as a metabolite."
   ]
  },
  {
   "cell_type": "code",
   "execution_count": null,
   "metadata": {},
   "outputs": [],
   "source": [
    "gold = Metabolite(id='gold_c', compartment='c', name='GOLD')"
   ]
  },
  {
   "cell_type": "markdown",
   "metadata": {},
   "source": [
    "Now that we have a metabolite, we can construct a reaction around it. We'll add metabolites to the reaction object. We'll have an ATP consumed, generating gold and an ATP. This will permantly remove a phosphate from the system, but return ADP as a metabolite."
   ]
  },
  {
   "cell_type": "code",
   "execution_count": null,
   "metadata": {},
   "outputs": [],
   "source": [
    "new_reaction.add_metabolites({model.metabolites.atp_c: -1, gold: 1, model.metabolites.adp_c: 1})"
   ]
  },
  {
   "cell_type": "markdown",
   "metadata": {},
   "source": [
    "We'll add the new reaction to the model. Note that the add_reactions method requires a list input, even if it is just one item."
   ]
  },
  {
   "cell_type": "code",
   "execution_count": null,
   "metadata": {},
   "outputs": [],
   "source": [
    "model.add_reactions([new_reaction])"
   ]
  },
  {
   "cell_type": "markdown",
   "metadata": {},
   "source": [
    "If we were to run the simulation now, it would fail to produce gold, because there is no demand being placed upon it. Rather than an export reaction, we'll say that gold is leaving the system. We can define a new boundary condition as follows."
   ]
  },
  {
   "cell_type": "code",
   "execution_count": null,
   "metadata": {},
   "outputs": [],
   "source": [
    "model.add_boundary(model.metabolites.gold_c, type='demand')"
   ]
  },
  {
   "cell_type": "markdown",
   "metadata": {},
   "source": [
    "We're still going to use the biomass objective function, so there will be no \"incentive\" to produce gold. We'll force the system by introducing a positive, lower boundary."
   ]
  },
  {
   "cell_type": "code",
   "execution_count": null,
   "metadata": {},
   "outputs": [],
   "source": [
    "model.reactions.alchemy.bounds = (200, 1000)"
   ]
  },
  {
   "cell_type": "code",
   "execution_count": null,
   "metadata": {},
   "outputs": [],
   "source": [
    "model.reactions.alchemy"
   ]
  },
  {
   "cell_type": "code",
   "execution_count": null,
   "metadata": {},
   "outputs": [],
   "source": [
    "model.objective.expression"
   ]
  },
  {
   "cell_type": "code",
   "execution_count": null,
   "metadata": {},
   "outputs": [],
   "source": [
    "opt = model.optimize()"
   ]
  },
  {
   "cell_type": "code",
   "execution_count": null,
   "metadata": {},
   "outputs": [],
   "source": [
    "print(\"Biomass flux:\", opt.fluxes.BIOMASS_Ec_iJO1366_core_53p95M)\n",
    "print(\"Gold flux:\", opt.fluxes.alchemy)"
   ]
  },
  {
   "cell_type": "markdown",
   "metadata": {},
   "source": [
    "We can see that this puts a heavy burden on cell growth rates. We can predict that the cell would be starved of phosphate, and by using some of the analytical tools described so far (reduced costs, shadow price, FVA), you could imagine how we could go about determining bottlenecks.\n",
    "\n",
    "We could also do a deletion series and see if there are any E. coli proteins that are now detrimental for growth under these conditions. Maybe their deletion would have slowed growth in non-productive cells, but now perhaps there pathways that act as a drain on the system.\n",
    "\n",
    "This wraps up the basics, but going forward, there are lots of approaches to formalize strain engineering by considering growth rates!"
   ]
  }
 ],
 "metadata": {
  "kernelspec": {
   "display_name": "Python 3",
   "language": "python",
   "name": "python3"
  },
  "language_info": {
   "codemirror_mode": {
    "name": "ipython",
    "version": 3
   },
   "file_extension": ".py",
   "mimetype": "text/x-python",
   "name": "python",
   "nbconvert_exporter": "python",
   "pygments_lexer": "ipython3",
   "version": "3.8.2"
  }
 },
 "nbformat": 4,
 "nbformat_minor": 4
}
