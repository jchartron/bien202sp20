{
 "cells": [
  {
   "cell_type": "markdown",
   "metadata": {},
   "source": [
    "## Introduction to COBRApy\n",
    "\n",
    "First, we will load a model for E. coli, and then we will take a look at a few reactions and metabolites. Later, we will run linear programming optimizations and interpret the results. Then we will perform experiments and see how metabolism is affected.\n",
    "\n",
    "To cobrapy and visualization tools, create a new conda environment and use pip:\n",
    "\n",
    "```\n",
    "conda create -n cobra matplotlib numpy scipy pandas sympy jupyterlab nodejs\n",
    "conda activate cobra\n",
    "pip install cobra\n",
    "pip install escher\n",
    "jupyter labextension install @jupyter-widgets/jupyterlab-manager\n",
    "jupyter labextension install escher\n",
    "```"
   ]
  },
  {
   "cell_type": "code",
   "execution_count": 1,
   "metadata": {},
   "outputs": [],
   "source": [
    "from cobra.io import read_sbml_model"
   ]
  },
  {
   "cell_type": "markdown",
   "metadata": {},
   "source": [
    "This module can read models in SBML format. See the docs for functions to load from .mat format among others."
   ]
  },
  {
   "cell_type": "code",
   "execution_count": 2,
   "metadata": {},
   "outputs": [],
   "source": [
    "model = read_sbml_model('data/iJO1366.xml.gz')"
   ]
  },
  {
   "cell_type": "code",
   "execution_count": 3,
   "metadata": {},
   "outputs": [
    {
     "data": {
      "text/html": [
       "\n",
       "        <table>\n",
       "            <tr>\n",
       "                <td><strong>Name</strong></td>\n",
       "                <td>iJO1366</td>\n",
       "            </tr><tr>\n",
       "                <td><strong>Memory address</strong></td>\n",
       "                <td>0x07fce3846a040</td>\n",
       "            </tr><tr>\n",
       "                <td><strong>Number of metabolites</strong></td>\n",
       "                <td>1805</td>\n",
       "            </tr><tr>\n",
       "                <td><strong>Number of reactions</strong></td>\n",
       "                <td>2583</td>\n",
       "            </tr><tr>\n",
       "                <td><strong>Number of groups</strong></td>\n",
       "                <td>36</td>\n",
       "            </tr><tr>\n",
       "                <td><strong>Objective expression</strong></td>\n",
       "                <td>1.0*BIOMASS_Ec_iJO1366_core_53p95M - 1.0*BIOMASS_Ec_iJO1366_core_53p95M_reverse_5c8b1</td>\n",
       "            </tr><tr>\n",
       "                <td><strong>Compartments</strong></td>\n",
       "                <td>cytosol, extracellular space, periplasm</td>\n",
       "            </tr>\n",
       "          </table>"
      ],
      "text/plain": [
       "<Model iJO1366 at 0x7fce3846a040>"
      ]
     },
     "execution_count": 3,
     "metadata": {},
     "output_type": "execute_result"
    }
   ],
   "source": [
    "model"
   ]
  },
  {
   "cell_type": "markdown",
   "metadata": {},
   "source": [
    "We see that this model contains over two thousand reactions. It is set to optimize a biomass equation.\n",
    "\n",
    "While you can put commands in your notebook, it will be a lot easier to create an interactive terminal linked to the notebook while you figure out how to manipulate the model. Right click on the notebook name above, and select \"New console for notebook.\" You can write in command and code blocks, and run them with `shift+enter`."
   ]
  },
  {
   "cell_type": "markdown",
   "metadata": {},
   "source": [
    "A model is an object that is a collection of metabolite objects, reaction objects, compartment objects, and methods (like optimize). You can search for metabolites or reactions with the query method.\n",
    "\n",
    "model.metabolites calls all associated metabolites in the model. There are a lot! Let's try to find the code for fructose.\n",
    "\n",
    "We can search for those containing fru in the name as shown below."
   ]
  },
  {
   "cell_type": "code",
   "execution_count": 4,
   "metadata": {},
   "outputs": [
    {
     "data": {
      "text/plain": [
       "[<Metabolite fru_c at 0x7f6f619f3490>,\n",
       " <Metabolite frulys_c at 0x7f6f619f34f0>,\n",
       " <Metabolite frulysp_c at 0x7f6f619f3550>,\n",
       " <Metabolite fruur_c at 0x7f6f619f35b0>,\n",
       " <Metabolite fru_e at 0x7f6f6188aeb0>,\n",
       " <Metabolite frulys_e at 0x7f6f6188af10>,\n",
       " <Metabolite fruur_e at 0x7f6f6188af40>,\n",
       " <Metabolite fru_p at 0x7f6f61785f10>,\n",
       " <Metabolite frulys_p at 0x7f6f61785f70>,\n",
       " <Metabolite fruur_p at 0x7f6f61785fa0>]"
      ]
     },
     "execution_count": 4,
     "metadata": {},
     "output_type": "execute_result"
    }
   ],
   "source": [
    "model.metabolites.query(\"fru\")"
   ]
  },
  {
   "cell_type": "markdown",
   "metadata": {},
   "source": [
    "Ok, this narrows it down. But it still isn't clear exactly what each code is. Each metabolite has a list of attributes, including name. Let's use a list comprehension iterate through the results in the cell above and print the name for each."
   ]
  },
  {
   "cell_type": "code",
   "execution_count": 5,
   "metadata": {},
   "outputs": [
    {
     "name": "stdout",
     "output_type": "stream",
     "text": [
      "fru_c : D-Fructose\n",
      "frulys_c : Fructoselysine\n",
      "frulysp_c : Fructoselysine Phosphate\n",
      "fruur_c : D-Fructuronate\n",
      "fru_e : D-Fructose\n",
      "frulys_e : Fructoselysine\n",
      "fruur_e : D-Fructuronate\n",
      "fru_p : D-Fructose\n",
      "frulys_p : Fructoselysine\n",
      "fruur_p : D-Fructuronate\n"
     ]
    },
    {
     "data": {
      "text/plain": [
       "[None, None, None, None, None, None, None, None, None, None]"
      ]
     },
     "execution_count": 5,
     "metadata": {},
     "output_type": "execute_result"
    }
   ],
   "source": [
    "[print(meta,\":\",meta.name) for meta in model.metabolites.query(\"fru\")]"
   ]
  },
  {
   "cell_type": "markdown",
   "metadata": {},
   "source": [
    "We see that fru_c, fru_e, and fru_p are both fructose. What is the difference? \"_c\", \"_e\", and \"_p\" tell us that one represents fructose in the cystoplasm, extracellularly, and in the periplasm. Let's look up the reactions that involve fructose in the cytoplasm. These are listed as an attribute with the metabolite name."
   ]
  },
  {
   "cell_type": "code",
   "execution_count": 6,
   "metadata": {},
   "outputs": [
    {
     "data": {
      "text/plain": [
       "frozenset({<Reaction F6PP at 0x7f6f60cc5cd0>,\n",
       "           <Reaction FFSD at 0x7f6f60bfcf70>,\n",
       "           <Reaction HEX7 at 0x7f6f609bbee0>,\n",
       "           <Reaction XYLI2 at 0x7f6f601d7f70>})"
      ]
     },
     "execution_count": 6,
     "metadata": {},
     "output_type": "execute_result"
    }
   ],
   "source": [
    "model.metabolites.fru_c.reactions"
   ]
  },
  {
   "cell_type": "markdown",
   "metadata": {},
   "source": [
    "Ok, four reactions, but the names aren't always so useful. Let's use another loop to get names. This time, I'm using a for loop, but really it is the same as list comprehension."
   ]
  },
  {
   "cell_type": "code",
   "execution_count": 7,
   "metadata": {},
   "outputs": [
    {
     "name": "stdout",
     "output_type": "stream",
     "text": [
      "XYLI2: glc__D_c <=> fru_c Xylose isomerase\n",
      "F6PP: f6p_c + h2o_c --> fru_c + pi_c D-fructose 6-phosphate phosphatase\n",
      "HEX7: atp_c + fru_c --> adp_c + f6p_c + h_c Hexokinase (D-fructose:ATP)\n",
      "FFSD: h2o_c + suc6p_c --> fru_c + g6p_c Beta-fructofuranosidase\n"
     ]
    }
   ],
   "source": [
    "for reaction in model.metabolites.fru_c.reactions:\n",
    "    print(reaction, reaction.name)"
   ]
  },
  {
   "cell_type": "markdown",
   "metadata": {},
   "source": [
    "We see some nice transformations here, but how does this link to fructose in the periplasm? Let's see what reactions that state is involved in."
   ]
  },
  {
   "cell_type": "code",
   "execution_count": 8,
   "metadata": {},
   "outputs": [
    {
     "name": "stdout",
     "output_type": "stream",
     "text": [
      "FRUptspp: fru_p + pep_c --> f1p_c + pyr_c D-fructose transport via PEP:Pyr PTS (periplasm)\n",
      "FRUtex: fru_e <=> fru_p D-fructose transport via diffusion (extracellular to periplasm)\n",
      "FRUpts2pp: fru_p + pep_c --> f6p_c + pyr_c Fructose transport via PEP:Pyr PTS (f6p generating) (periplasm)\n"
     ]
    }
   ],
   "source": [
    "for reaction in model.metabolites.fru_p.reactions:\n",
    "    print(reaction, reaction.name)"
   ]
  },
  {
   "cell_type": "markdown",
   "metadata": {},
   "source": [
    "These reactions tell us something interesting about E. coli: there are no direct fructose transporters! Instead, we see in the FRUptspp and FRUpts2pp reaction that periplasmic fructose is transported into the cytosol coincident with its phosphorylation. This uses cytoplasmic phosphoenylpyruvate (PEP). For completeness, we should expect to see a zero-order exchange reaction introducing fru_e into the system. Let's check."
   ]
  },
  {
   "cell_type": "code",
   "execution_count": 10,
   "metadata": {},
   "outputs": [
    {
     "name": "stdout",
     "output_type": "stream",
     "text": [
      "FRUtex: fru_e <=> fru_p D-fructose transport via diffusion (extracellular to periplasm)\n",
      "EX_fru_e: fru_e -->  D-Fructose exchange\n"
     ]
    }
   ],
   "source": [
    "for reaction in model.metabolites.fru_e.reactions:\n",
    "    print(reaction, reaction.name)"
   ]
  },
  {
   "cell_type": "markdown",
   "metadata": {},
   "source": [
    "Many models use negative values for metabolite uptake into the system, so here if the flux for fru_e --> was -10, it means fructose is entering the system."
   ]
  },
  {
   "cell_type": "markdown",
   "metadata": {},
   "source": [
    "# Performing flux balance analysis\n",
    "\n",
    "Let's take a closer look at the default objective function for this model, and then run a simulation and see some fit fluxes."
   ]
  },
  {
   "cell_type": "code",
   "execution_count": 9,
   "metadata": {},
   "outputs": [
    {
     "data": {
      "text/latex": [
       "$\\displaystyle 1.0 BIOMASS_{Ec iJO1366 core 53p95M} - 1.0 BIOMASS_{Ec iJO1366 core 53p95M reverse 5c8b1}$"
      ],
      "text/plain": [
       "1.0*BIOMASS_Ec_iJO1366_core_53p95M - 1.0*BIOMASS_Ec_iJO1366_core_53p95M_reverse_5c8b1"
      ]
     },
     "execution_count": 9,
     "metadata": {},
     "output_type": "execute_result"
    }
   ],
   "source": [
    "model.objective.expression"
   ]
  },
  {
   "cell_type": "markdown",
   "metadata": {},
   "source": [
    "We seem to be optimizing for a core biomass equation. Notice how we are optimizing for the net forward direction. Let's take a closer look at what the biomass equation is:"
   ]
  },
  {
   "cell_type": "code",
   "execution_count": 11,
   "metadata": {},
   "outputs": [
    {
     "data": {
      "text/plain": [
       "'0.000223 10fthf_c + 2.6e-05 2fe2s_c + 0.000223 2ohph_c + 0.00026 4fe4s_c + 0.513689 ala__L_c + 0.000223 amet_c + 0.295792 arg__L_c + 0.241055 asn__L_c + 0.241055 asp__L_c + 54.124831 atp_c + 0.000122 bmocogdp_c + 2e-06 btn_c + 0.005205 ca2_c + 0.005205 cl_c + 0.000576 coa_c + 2.5e-05 cobalt2_c + 0.133508 ctp_c + 0.000709 cu2_c + 0.09158 cys__L_c + 0.026166 datp_c + 0.027017 dctp_c + 0.027017 dgtp_c + 0.026166 dttp_c + 0.000223 fad_c + 0.006715 fe2_c + 0.007808 fe3_c + 0.26316 gln__L_c + 0.26316 glu__L_c + 0.612638 gly_c + 0.215096 gtp_c + 48.601527 h2o_c + 0.094738 his__L_c + 0.290529 ile__L_c + 0.195193 k_c + 0.019456 kdo2lipid4_e + 0.450531 leu__L_c + 0.343161 lys__L_c + 0.153686 met__L_c + 0.008675 mg2_c + 0.000223 mlthf_c + 0.000691 mn2_c + 7e-06 mobd_c + 0.013894 murein5px4p_p + 0.001831 nad_c + 0.000447 nadp_c + 0.013013 nh4_c + 0.000323 ni2_c + 0.017868 pe160_c + 0.045946 pe160_p + 0.054154 pe161_c + 0.02106 pe161_p + 0.185265 phe__L_c + 0.000223 pheme_c + 0.221055 pro__L_c + 0.000223 pydx5p_c + 0.000223 ribflv_c + 0.215792 ser__L_c + 0.000223 sheme_c + 0.004338 so4_c + 0.000223 thf_c + 0.000223 thmpp_c + 0.253687 thr__L_c + 0.056843 trp__L_c + 0.137896 tyr__L_c + 5.5e-05 udcpdp_c + 0.144104 utp_c + 0.423162 val__L_c + 0.000341 zn2_c --> 53.95 adp_c + 53.95 h_c + 53.945662 pi_c + 0.773903 ppi_c'"
      ]
     },
     "execution_count": 11,
     "metadata": {},
     "output_type": "execute_result"
    }
   ],
   "source": [
    "model.reactions.BIOMASS_Ec_iJO1366_core_53p95M.reaction"
   ]
  },
  {
   "cell_type": "markdown",
   "metadata": {},
   "source": [
    "Complicated! Biomass functions like this are very carefully considered and tuned to match experimental conditions. This expression captures what it takes for *E. coli* to grow and divide. \n",
    "\n",
    "Notice how this equation is not mass balanced! Metabolites like amino acids (met, his, ile, gln, etc.) are consumed and are lost from the system.\n",
    "\n",
    "## Constraints\n",
    "\n",
    "Ok, so our stoichiometry matrix derives from the reactions, our objective function is defined. What about our constraints? These are encoded in the reaction objects. You can view or modify them. Let's look at the bounds for the F6PP reaction"
   ]
  },
  {
   "cell_type": "code",
   "execution_count": 14,
   "metadata": {},
   "outputs": [
    {
     "data": {
      "text/plain": [
       "(0, 2000)"
      ]
     },
     "execution_count": 14,
     "metadata": {},
     "output_type": "execute_result"
    }
   ],
   "source": [
    "model.reactions.F6PP.bounds = (0, 0)\n",
    "model.reactions.F6PP.bounds"
   ]
  },
  {
   "cell_type": "markdown",
   "metadata": {},
   "source": [
    "1000 is a fairly high upper bound, practically unbounded. Scroll up a few blocks to where we looked at the F6PP reaction. Notice that it is irreversible? That is consistent with the lower bound 0.\n",
    "\n",
    "For fun, set the lower bound to a negative number (you can use the `=` operator and input a tuple like (-10,1000). Then, view the reaction again with `model.reactions.F6PP.reaction` and see what happens.\n",
    "\n",
    "## Media\n",
    "\n",
    "The growth media or surrounding environment can be defined by exchange reactions. You can view these reactions as below."
   ]
  },
  {
   "cell_type": "code",
   "execution_count": 4,
   "metadata": {},
   "outputs": [
    {
     "data": {
      "text/plain": [
       "{'EX_ca2_e': 1000.0,\n",
       " 'EX_cbl1_e': 0.01,\n",
       " 'EX_cl_e': 1000.0,\n",
       " 'EX_co2_e': 1000.0,\n",
       " 'EX_cobalt2_e': 1000.0,\n",
       " 'EX_cu2_e': 1000.0,\n",
       " 'EX_fe2_e': 1000.0,\n",
       " 'EX_fe3_e': 1000.0,\n",
       " 'EX_glc__D_e': 10.0,\n",
       " 'EX_h_e': 1000.0,\n",
       " 'EX_h2o_e': 1000.0,\n",
       " 'EX_k_e': 1000.0,\n",
       " 'EX_mg2_e': 1000.0,\n",
       " 'EX_mn2_e': 1000.0,\n",
       " 'EX_mobd_e': 1000.0,\n",
       " 'EX_na1_e': 1000.0,\n",
       " 'EX_nh4_e': 1000.0,\n",
       " 'EX_ni2_e': 1000.0,\n",
       " 'EX_o2_e': 1000.0,\n",
       " 'EX_pi_e': 1000.0,\n",
       " 'EX_sel_e': 1000.0,\n",
       " 'EX_slnt_e': 1000.0,\n",
       " 'EX_so4_e': 1000.0,\n",
       " 'EX_tungs_e': 1000.0,\n",
       " 'EX_zn2_e': 1000.0}"
      ]
     },
     "execution_count": 4,
     "metadata": {},
     "output_type": "execute_result"
    }
   ],
   "source": [
    "model.medium"
   ]
  },
  {
   "cell_type": "markdown",
   "metadata": {},
   "source": [
    "We see that many micronutrients are in abundance. Glucose, however, is limiting with 10, and there is no other carbon source supplied. Importantly, O2 is not limiting, so this is aerobic growth. EX_cbl1_e is also interesting, let's see what this is."
   ]
  },
  {
   "cell_type": "code",
   "execution_count": 5,
   "metadata": {},
   "outputs": [
    {
     "data": {
      "text/plain": [
       "'Cob(I)alamin'"
      ]
     },
     "execution_count": 5,
     "metadata": {},
     "output_type": "execute_result"
    }
   ],
   "source": [
    "model.metabolites.cbl1_e.name"
   ]
  },
  {
   "cell_type": "markdown",
   "metadata": {},
   "source": [
    "Cobalamin is vitamin B12."
   ]
  },
  {
   "cell_type": "markdown",
   "metadata": {},
   "source": [
    "Enough chit-chat, let's optimize this cell."
   ]
  },
  {
   "cell_type": "code",
   "execution_count": 8,
   "metadata": {},
   "outputs": [],
   "source": [
    "solution = model.optimize() # GLPK, gurobi, IBM-CPLEX"
   ]
  },
  {
   "cell_type": "code",
   "execution_count": 14,
   "metadata": {},
   "outputs": [
    {
     "data": {
      "text/html": [
       "<strong><em>Optimal</em> solution with objective value 0.982</strong><br><div>\n",
       "<style scoped>\n",
       "    .dataframe tbody tr th:only-of-type {\n",
       "        vertical-align: middle;\n",
       "    }\n",
       "\n",
       "    .dataframe tbody tr th {\n",
       "        vertical-align: top;\n",
       "    }\n",
       "\n",
       "    .dataframe thead th {\n",
       "        text-align: right;\n",
       "    }\n",
       "</style>\n",
       "<table border=\"1\" class=\"dataframe\">\n",
       "  <thead>\n",
       "    <tr style=\"text-align: right;\">\n",
       "      <th></th>\n",
       "      <th>fluxes</th>\n",
       "      <th>reduced_costs</th>\n",
       "    </tr>\n",
       "  </thead>\n",
       "  <tbody>\n",
       "    <tr>\n",
       "      <th>DM_4crsol_c</th>\n",
       "      <td>0.000219</td>\n",
       "      <td>0.000000</td>\n",
       "    </tr>\n",
       "    <tr>\n",
       "      <th>DM_5drib_c</th>\n",
       "      <td>0.000221</td>\n",
       "      <td>0.000000</td>\n",
       "    </tr>\n",
       "    <tr>\n",
       "      <th>DM_aacald_c</th>\n",
       "      <td>0.000000</td>\n",
       "      <td>0.000000</td>\n",
       "    </tr>\n",
       "    <tr>\n",
       "      <th>DM_amob_c</th>\n",
       "      <td>0.000002</td>\n",
       "      <td>0.000000</td>\n",
       "    </tr>\n",
       "    <tr>\n",
       "      <th>DM_mththf_c</th>\n",
       "      <td>0.000440</td>\n",
       "      <td>0.000000</td>\n",
       "    </tr>\n",
       "    <tr>\n",
       "      <th>...</th>\n",
       "      <td>...</td>\n",
       "      <td>...</td>\n",
       "    </tr>\n",
       "    <tr>\n",
       "      <th>ZN2abcpp</th>\n",
       "      <td>0.000000</td>\n",
       "      <td>-0.008295</td>\n",
       "    </tr>\n",
       "    <tr>\n",
       "      <th>ZN2t3pp</th>\n",
       "      <td>0.000000</td>\n",
       "      <td>-0.002074</td>\n",
       "    </tr>\n",
       "    <tr>\n",
       "      <th>ZN2tpp</th>\n",
       "      <td>0.000335</td>\n",
       "      <td>0.000000</td>\n",
       "    </tr>\n",
       "    <tr>\n",
       "      <th>ZNabcpp</th>\n",
       "      <td>0.000000</td>\n",
       "      <td>-0.008295</td>\n",
       "    </tr>\n",
       "    <tr>\n",
       "      <th>Zn2tex</th>\n",
       "      <td>0.000335</td>\n",
       "      <td>0.000000</td>\n",
       "    </tr>\n",
       "  </tbody>\n",
       "</table>\n",
       "<p>2583 rows × 2 columns</p>\n",
       "</div>"
      ],
      "text/plain": [
       "<Solution 0.982 at 0x7f6f5fae5580>"
      ]
     },
     "execution_count": 14,
     "metadata": {},
     "output_type": "execute_result"
    }
   ],
   "source": [
    "solution"
   ]
  },
  {
   "cell_type": "markdown",
   "metadata": {},
   "source": [
    "The solution object contains fluxes, shadow costs, and reduced costs for each reaction. We see that the objective solved to 0.982. That's cool, but without some graphs or variables, it doesn't tell us much.\n",
    "\n",
    "If you installed escher and used the Jupyter widget, we can plot our fluxes."
   ]
  },
  {
   "cell_type": "code",
   "execution_count": 6,
   "metadata": {},
   "outputs": [],
   "source": [
    "import escher"
   ]
  },
  {
   "cell_type": "code",
   "execution_count": 5,
   "metadata": {},
   "outputs": [
    {
     "data": {
      "text/plain": [
       "[{'organism': 'Saccharomyces cerevisiae',\n",
       "  'map_name': 'iMM904.Central carbon metabolism'},\n",
       " {'organism': 'Homo sapiens',\n",
       "  'map_name': 'RECON1.Inositol retinol metabolism'},\n",
       " {'organism': 'Homo sapiens', 'map_name': 'RECON1.Glycolysis TCA PPP'},\n",
       " {'organism': 'Homo sapiens', 'map_name': 'RECON1.Tryptophan metabolism'},\n",
       " {'organism': 'Homo sapiens', 'map_name': 'RECON1.Carbohydrate metabolism'},\n",
       " {'organism': 'Homo sapiens',\n",
       "  'map_name': 'RECON1.Amino acid metabolism (partial)'},\n",
       " {'organism': 'Escherichia coli', 'map_name': 'iJO1366.Nucleotide metabolism'},\n",
       " {'organism': 'Escherichia coli',\n",
       "  'map_name': 'iJO1366.Fatty acid biosynthesis (saturated)'},\n",
       " {'organism': 'Escherichia coli',\n",
       "  'map_name': 'iJO1366.Nucleotide and histidine biosynthesis'},\n",
       " {'organism': 'Escherichia coli', 'map_name': 'e_coli_core.Core metabolism'},\n",
       " {'organism': 'Escherichia coli', 'map_name': 'iJO1366.Central metabolism'},\n",
       " {'organism': 'Escherichia coli',\n",
       "  'map_name': 'iJO1366.Fatty acid beta-oxidation'}]"
      ]
     },
     "execution_count": 5,
     "metadata": {},
     "output_type": "execute_result"
    }
   ],
   "source": [
    "escher.list_available_maps() # Let's see what models come with escher by default"
   ]
  },
  {
   "cell_type": "code",
   "execution_count": 9,
   "metadata": {},
   "outputs": [
    {
     "name": "stdout",
     "output_type": "stream",
     "text": [
      "Downloading Map from https://escher.github.io/1-0-0/6/maps/Escherichia%20coli/iJO1366.Central%20metabolism.json\n"
     ]
    },
    {
     "data": {
      "application/vnd.jupyter.widget-view+json": {
       "model_id": "a8143185ff2b4467a6a73a5b83a50d04",
       "version_major": 2,
       "version_minor": 0
      },
      "text/plain": [
       "Builder(reaction_data={'DM_4crsol_c': 0.00021906891423811625, 'DM_5drib_c': 0.0002210336578635664, 'DM_aacald_…"
      ]
     },
     "metadata": {},
     "output_type": "display_data"
    }
   ],
   "source": [
    "escher.Builder(map_name='iJO1366.Central metabolism',\n",
    "                   model = model,\n",
    "                   reaction_data=dict(solution.fluxes))"
   ]
  },
  {
   "cell_type": "markdown",
   "metadata": {},
   "source": [
    "Pretty cool, eh? Let's try something. What if the cell didn't have oxygen?"
   ]
  },
  {
   "cell_type": "code",
   "execution_count": 10,
   "metadata": {},
   "outputs": [],
   "source": [
    "newmodel = model.copy()\n"
   ]
  },
  {
   "cell_type": "code",
   "execution_count": 11,
   "metadata": {},
   "outputs": [
    {
     "data": {
      "text/plain": [
       "{'EX_ca2_e': 1000.0,\n",
       " 'EX_cbl1_e': 0.01,\n",
       " 'EX_cl_e': 1000.0,\n",
       " 'EX_co2_e': 1000.0,\n",
       " 'EX_cobalt2_e': 1000.0,\n",
       " 'EX_cu2_e': 1000.0,\n",
       " 'EX_fe2_e': 1000.0,\n",
       " 'EX_fe3_e': 1000.0,\n",
       " 'EX_glc__D_e': 10.0,\n",
       " 'EX_h_e': 1000.0,\n",
       " 'EX_h2o_e': 1000.0,\n",
       " 'EX_k_e': 1000.0,\n",
       " 'EX_mg2_e': 1000.0,\n",
       " 'EX_mn2_e': 1000.0,\n",
       " 'EX_mobd_e': 1000.0,\n",
       " 'EX_na1_e': 1000.0,\n",
       " 'EX_nh4_e': 1000.0,\n",
       " 'EX_ni2_e': 1000.0,\n",
       " 'EX_pi_e': 1000.0,\n",
       " 'EX_sel_e': 1000.0,\n",
       " 'EX_slnt_e': 1000.0,\n",
       " 'EX_so4_e': 1000.0,\n",
       " 'EX_tungs_e': 1000.0,\n",
       " 'EX_zn2_e': 1000.0}"
      ]
     },
     "execution_count": 11,
     "metadata": {},
     "output_type": "execute_result"
    }
   ],
   "source": [
    "medium = newmodel.medium # copying to new object\n",
    "medium[\"EX_o2_e\"] = 0.0 # setting value to zero (python dicitionary)\n",
    "newmodel.medium = medium\n",
    "\n",
    "newmodel.medium"
   ]
  },
  {
   "cell_type": "code",
   "execution_count": 12,
   "metadata": {},
   "outputs": [],
   "source": [
    "anaerobic = newmodel.optimize()"
   ]
  },
  {
   "cell_type": "code",
   "execution_count": 13,
   "metadata": {},
   "outputs": [
    {
     "data": {
      "text/html": [
       "<strong><em>Optimal</em> solution with objective value 0.242</strong><br><div>\n",
       "<style scoped>\n",
       "    .dataframe tbody tr th:only-of-type {\n",
       "        vertical-align: middle;\n",
       "    }\n",
       "\n",
       "    .dataframe tbody tr th {\n",
       "        vertical-align: top;\n",
       "    }\n",
       "\n",
       "    .dataframe thead th {\n",
       "        text-align: right;\n",
       "    }\n",
       "</style>\n",
       "<table border=\"1\" class=\"dataframe\">\n",
       "  <thead>\n",
       "    <tr style=\"text-align: right;\">\n",
       "      <th></th>\n",
       "      <th>fluxes</th>\n",
       "      <th>reduced_costs</th>\n",
       "    </tr>\n",
       "  </thead>\n",
       "  <tbody>\n",
       "    <tr>\n",
       "      <th>DM_4crsol_c</th>\n",
       "      <td>5.385485e-05</td>\n",
       "      <td>0.000000</td>\n",
       "    </tr>\n",
       "    <tr>\n",
       "      <th>DM_5drib_c</th>\n",
       "      <td>1.620475e-04</td>\n",
       "      <td>0.000000</td>\n",
       "    </tr>\n",
       "    <tr>\n",
       "      <th>DM_aacald_c</th>\n",
       "      <td>0.000000e+00</td>\n",
       "      <td>0.000000</td>\n",
       "    </tr>\n",
       "    <tr>\n",
       "      <th>DM_amob_c</th>\n",
       "      <td>4.830031e-07</td>\n",
       "      <td>0.000000</td>\n",
       "    </tr>\n",
       "    <tr>\n",
       "      <th>DM_mththf_c</th>\n",
       "      <td>1.081927e-04</td>\n",
       "      <td>0.000000</td>\n",
       "    </tr>\n",
       "    <tr>\n",
       "      <th>...</th>\n",
       "      <td>...</td>\n",
       "      <td>...</td>\n",
       "    </tr>\n",
       "    <tr>\n",
       "      <th>ZN2abcpp</th>\n",
       "      <td>0.000000e+00</td>\n",
       "      <td>-0.022105</td>\n",
       "    </tr>\n",
       "    <tr>\n",
       "      <th>ZN2t3pp</th>\n",
       "      <td>0.000000e+00</td>\n",
       "      <td>-0.005526</td>\n",
       "    </tr>\n",
       "    <tr>\n",
       "      <th>ZN2tpp</th>\n",
       "      <td>8.235203e-05</td>\n",
       "      <td>0.000000</td>\n",
       "    </tr>\n",
       "    <tr>\n",
       "      <th>ZNabcpp</th>\n",
       "      <td>0.000000e+00</td>\n",
       "      <td>-0.022105</td>\n",
       "    </tr>\n",
       "    <tr>\n",
       "      <th>Zn2tex</th>\n",
       "      <td>8.235203e-05</td>\n",
       "      <td>0.000000</td>\n",
       "    </tr>\n",
       "  </tbody>\n",
       "</table>\n",
       "<p>2583 rows × 2 columns</p>\n",
       "</div>"
      ],
      "text/plain": [
       "<Solution 0.242 at 0x7fce60ff7e80>"
      ]
     },
     "execution_count": 13,
     "metadata": {},
     "output_type": "execute_result"
    }
   ],
   "source": [
    "anaerobic"
   ]
  },
  {
   "cell_type": "markdown",
   "metadata": {},
   "source": [
    "Growth rate took a big hit! Let's map it"
   ]
  },
  {
   "cell_type": "code",
   "execution_count": 14,
   "metadata": {},
   "outputs": [
    {
     "name": "stdout",
     "output_type": "stream",
     "text": [
      "Downloading Map from https://escher.github.io/1-0-0/6/maps/Escherichia%20coli/iJO1366.Central%20metabolism.json\n"
     ]
    },
    {
     "data": {
      "application/vnd.jupyter.widget-view+json": {
       "model_id": "d2a4cd23b455422db7a4b445f7cb1e0c",
       "version_major": 2,
       "version_minor": 0
      },
      "text/plain": [
       "Builder(reaction_data={'DM_4crsol_c': 5.3854847232670166e-05, 'DM_5drib_c': 0.00016204754481220483, 'DM_aacald…"
      ]
     },
     "metadata": {},
     "output_type": "display_data"
    }
   ],
   "source": [
    "escher.Builder(map_name='iJO1366.Central metabolism',\n",
    "                   reaction_data=dict(anaerobic.fluxes))"
   ]
  },
  {
   "cell_type": "markdown",
   "metadata": {},
   "source": [
    "Pretty cool. We see a huge increase in glycolysis. Makes sense!\n",
    "\n",
    "Now let's extract specific fluxes from the simulation and see how they vary with constraints. Let's test the effect of glucose availability on the media. Let's also see how much oxygen is sucked up by the cells, and how much acetate and lactate are secreted from the cell."
   ]
  },
  {
   "cell_type": "code",
   "execution_count": 16,
   "metadata": {},
   "outputs": [],
   "source": [
    "medium = model.medium # glucose in medium\n",
    "testvalues = [0.01, 0.1, 0.5, 1, 5, 10, 50, 100, 200, 500, 1000] # test values\n",
    "output = [] # empty lists to start collecting output\n",
    "oxygen = []\n",
    "acetate = []\n",
    "lactate = []\n",
    "with model: # doesn't overwrite the original model\n",
    "    for i in testvalues: \n",
    "        medium['EX_glc__D_e'] = i # redefine glucose uptake\n",
    "        model.medium = medium\n",
    "        solution = model.optimize() # solution an object with fluxes and reaction names\n",
    "        output.append(solution.objective_value) # append method\n",
    "        oxygen.append(-solution.fluxes['EX_o2_e']) # notice the minus sign\n",
    "        acetate.append(solution.fluxes['EX_ac_e'])\n",
    "        lactate.append(solution.fluxes['EX_lac__L_e'])"
   ]
  },
  {
   "cell_type": "code",
   "execution_count": 17,
   "metadata": {},
   "outputs": [],
   "source": [
    "import matplotlib.pyplot as plt"
   ]
  },
  {
   "cell_type": "code",
   "execution_count": 18,
   "metadata": {},
   "outputs": [
    {
     "data": {
      "text/plain": [
       "Text(0.5, 1.0, 'Media composition and growth')"
      ]
     },
     "execution_count": 18,
     "metadata": {},
     "output_type": "execute_result"
    },
    {
     "data": {
      "image/png": "[encoded data removed]",
      "text/plain": [
       "<Figure size 432x288 with 1 Axes>"
      ]
     },
     "metadata": {
      "needs_background": "light"
     },
     "output_type": "display_data"
    }
   ],
   "source": [
    "plt.plot(testvalues, output, \"o-\")\n",
    "plt.xlabel(\"Maximum Glucose Uptake\")\n",
    "plt.ylabel(\"Growth rate\")\n",
    "plt.title(\"Media composition and growth\")"
   ]
  },
  {
   "cell_type": "code",
   "execution_count": 19,
   "metadata": {},
   "outputs": [
    {
     "data": {
      "text/plain": [
       "Text(0.5, 1.0, 'Media composition and oxygen consumption')"
      ]
     },
     "execution_count": 19,
     "metadata": {},
     "output_type": "execute_result"
    },
    {
     "data": {
      "image/png": "[encoded data removed]",
      "text/plain": [
       "<Figure size 432x288 with 1 Axes>"
      ]
     },
     "metadata": {
      "needs_background": "light"
     },
     "output_type": "display_data"
    }
   ],
   "source": [
    "plt.plot(testvalues, oxygen, \"o-\", label = \"Oxygen uptake\")\n",
    "plt.plot(testvalues, lactate, \"o-\", label = \"Lactate sec.\")\n",
    "plt.plot(testvalues, acetate, \"o-\", label = \"Acetate sec.\")\n",
    "plt.legend()\n",
    "plt.xlabel(\"Maximum Glucose Uptake\")\n",
    "plt.ylabel(\"Flux\")\n",
    "plt.title(\"Media composition and oxygen consumption\")"
   ]
  },
  {
   "cell_type": "markdown",
   "metadata": {},
   "source": [
    "Let's try something else. Let's keep the glucose availability in the media constant, and then force the cells to uptake increasing amounts of oxygen. Oxygen is good, right?"
   ]
  },
  {
   "cell_type": "code",
   "execution_count": 20,
   "metadata": {},
   "outputs": [],
   "source": [
    "#medium = model.medium\n",
    "testvalues = [0.01, 0.1, 0.5, 1, 5, 10, 50, 100, 200, 250, 260, 280, 300]\n",
    "output = []\n",
    "oxygen = []\n",
    "gluuptake = []\n",
    "with model: # doesn't overwrite the original model\n",
    "    for i in testvalues:\n",
    "        model.reactions.EX_o2_e.bounds = (-i, -i) # Negative means O2 is entering the cell\n",
    "        solution = model.optimize()\n",
    "        output.append(solution.objective_value)"
   ]
  },
  {
   "cell_type": "code",
   "execution_count": 21,
   "metadata": {},
   "outputs": [
    {
     "data": {
      "text/plain": [
       "Text(0.5, 1.0, 'Oxygen uptake and growth')"
      ]
     },
     "execution_count": 21,
     "metadata": {},
     "output_type": "execute_result"
    },
    {
     "data": {
      "image/png": "[encoded data removed]",
      "text/plain": [
       "<Figure size 432x288 with 1 Axes>"
      ]
     },
     "metadata": {
      "needs_background": "light"
     },
     "output_type": "display_data"
    }
   ],
   "source": [
    "plt.plot(testvalues, output, \"o-\")\n",
    "plt.xlabel(\"Oxygen Uptake\")\n",
    "plt.ylabel(\"Growth\")\n",
    "plt.title(\"Oxygen uptake and growth\")"
   ]
  },
  {
   "cell_type": "code",
   "execution_count": 22,
   "metadata": {},
   "outputs": [],
   "source": [
    "from cobra.flux_analysis import production_envelope\n",
    "prod_env = production_envelope(\n",
    "    model, [\"EX_o2_e\"], objective=\"EX_ac_e\", carbon_sources=\"EX_glc__D_e\")"
   ]
  },
  {
   "cell_type": "code",
   "execution_count": 23,
   "metadata": {},
   "outputs": [
    {
     "data": {
      "image/png": "[encoded data removed]",
      "text/plain": [
       "<Figure size 432x288 with 1 Axes>"
      ]
     },
     "metadata": {
      "needs_background": "light"
     },
     "output_type": "display_data"
    }
   ],
   "source": [
    "prod_env.plot(\n",
    "    kind='line', x='EX_o2_e', y='carbon_yield_maximum');"
   ]
  },
  {
   "cell_type": "code",
   "execution_count": null,
   "metadata": {},
   "outputs": [],
   "source": [
    "prod_env"
   ]
  },
  {
   "cell_type": "markdown",
   "metadata": {},
   "source": [
    "The production envelope gives us the same information as our manual experiment. Note that the sign for glucose uptake is inverted in the COBRA function; you'll see that I added a negative sign in my code to provide opposite values. The exchange reaction has metabolites leaving the environment, so they will appear negative when they enter."
   ]
  },
  {
   "cell_type": "code",
   "execution_count": null,
   "metadata": {},
   "outputs": [],
   "source": []
  }
 ],
 "metadata": {
  "kernelspec": {
   "display_name": "Python 3",
   "language": "python",
   "name": "python3"
  },
  "language_info": {
   "codemirror_mode": {
    "name": "ipython",
    "version": 3
   },
   "file_extension": ".py",
   "mimetype": "text/x-python",
   "name": "python",
   "nbconvert_exporter": "python",
   "pygments_lexer": "ipython3",
   "version": "3.8.2"
  }
 },
 "nbformat": 4,
 "nbformat_minor": 4
}
