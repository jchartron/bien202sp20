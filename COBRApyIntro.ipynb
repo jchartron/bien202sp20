{
 "cells": [
  {
   "cell_type": "markdown",
   "metadata": {},
   "source": [
    "## Introduction to COBRApy\n",
    "\n",
    "First, we will load a model for E. coli, and then we will take a look at a few reactions and metabolites. Later, we will run linear programming optimizations and interpret the results. Then we will perform experiments and see how metabolism is affected.\n",
    "\n",
    "To cobrapy and visualization tools, create a new conda environment and use pip:\n",
    "\n",
    "```\n",
    "conda create -n cobra matplotlib numpy scipy pandas sympy jupyterlab nodejs\n",
    "conda activate cobra\n",
    "pip install cobra\n",
    "pip install escher\n",
    "jupyter labextension install @jupyter-widgets/jupyterlab-manager\n",
    "jupyter labextension install escher\n",
    "```"
   ]
  },
  {
   "cell_type": "code",
   "execution_count": null,
   "metadata": {},
   "outputs": [],
   "source": [
    "from cobra.io import read_sbml_model"
   ]
  },
  {
   "cell_type": "markdown",
   "metadata": {},
   "source": [
    "This module can read models in SBML format. See the docs for functions to load from .mat format among others."
   ]
  },
  {
   "cell_type": "code",
   "execution_count": null,
   "metadata": {},
   "outputs": [],
   "source": [
    "model = read_sbml_model('data/iJO1366.xml.gz')"
   ]
  },
  {
   "cell_type": "code",
   "execution_count": null,
   "metadata": {},
   "outputs": [],
   "source": [
    "model"
   ]
  },
  {
   "cell_type": "markdown",
   "metadata": {},
   "source": [
    "We see that this model contains over two thousand reactions. It is set to optimize a biomass equation.\n",
    "\n",
    "While you can put commands in your notebook, it will be a lot easier to create an interactive terminal linked to the notebook while you figure out how to manipulate the model. Right click on the notebook name above, and select \"New console for notebook.\" You can write in command and code blocks, and run them with `shift+enter`."
   ]
  },
  {
   "cell_type": "markdown",
   "metadata": {},
   "source": [
    "A model is an object that is a collection of metabolite objects, reaction objects, compartment objects, and methods (like optimize). You can search for metabolites or reactions with the query method.\n",
    "\n",
    "model.metabolites calls all associated metabolites in the model. There are a lot! Let's try to find the code for fructose.\n",
    "\n",
    "We can search for those containing fru in the name as shown below."
   ]
  },
  {
   "cell_type": "code",
   "execution_count": null,
   "metadata": {},
   "outputs": [],
   "source": [
    "model.metabolites.query(\"fru\")"
   ]
  },
  {
   "cell_type": "markdown",
   "metadata": {},
   "source": [
    "Ok, this narrows it down. But it still isn't clear exactly what each code is. Each metabolite has a list of attributes, including name. Let's use a list comprehension iterate through the results in the cell above and print the name for each."
   ]
  },
  {
   "cell_type": "code",
   "execution_count": null,
   "metadata": {},
   "outputs": [],
   "source": [
    "[print(meta,\":\",meta.name) for meta in model.metabolites.query(\"fru\")]"
   ]
  },
  {
   "cell_type": "markdown",
   "metadata": {},
   "source": [
    "We see that fru_c, fru_e, and fru_p are both fructose. What is the difference? \"_c\", \"_e\", and \"_p\" tell us that one represents fructose in the cystoplasm, extracellularly, and in the periplasm. Let's look up the reactions that involve fructose in the cytoplasm. These are listed as an attribute with the metabolite name."
   ]
  },
  {
   "cell_type": "code",
   "execution_count": null,
   "metadata": {},
   "outputs": [],
   "source": [
    "model.metabolites.fru_c.reactions"
   ]
  },
  {
   "cell_type": "markdown",
   "metadata": {},
   "source": [
    "Ok, four reactions, but the names aren't always so useful. Let's use another loop to get names. This time, I'm using a for loop, but really it is the same as list comprehension."
   ]
  },
  {
   "cell_type": "code",
   "execution_count": null,
   "metadata": {},
   "outputs": [],
   "source": [
    "for reaction in model.metabolites.fru_c.reactions:\n",
    "    print(reaction, reaction.name)"
   ]
  },
  {
   "cell_type": "markdown",
   "metadata": {},
   "source": [
    "We see some nice transformations here, but how does this link to fructose in the periplasm? Let's see what reactions that state is involved in."
   ]
  },
  {
   "cell_type": "code",
   "execution_count": null,
   "metadata": {},
   "outputs": [],
   "source": [
    "for reaction in model.metabolites.fru_p.reactions:\n",
    "    print(reaction, reaction.name)"
   ]
  },
  {
   "cell_type": "markdown",
   "metadata": {},
   "source": [
    "These reactions tell us something interesting about E. coli: there are no direct fructose transporters! Instead, we see in the FRUptspp and FRUpts2pp reaction that periplasmic fructose is transported into the cytosol coincident with its phosphorylation. This uses cytoplasmic phosphoenylpyruvate (PEP). For completeness, we should expect to see a zero-order exchange reaction introducing fru_e into the system. Let's check."
   ]
  },
  {
   "cell_type": "code",
   "execution_count": null,
   "metadata": {},
   "outputs": [],
   "source": [
    "for reaction in model.metabolites.fru_e.reactions:\n",
    "    print(reaction, reaction.name)"
   ]
  },
  {
   "cell_type": "markdown",
   "metadata": {},
   "source": [
    "Many models use negative values for metabolite uptake into the system, so here if the flux for fru_e --> was -10, it means fructose is entering the system."
   ]
  },
  {
   "cell_type": "markdown",
   "metadata": {},
   "source": [
    "# Performing flux balance analysis\n",
    "\n",
    "Let's take a closer look at the default objective function for this model, and then run a simulation and see some fit fluxes."
   ]
  },
  {
   "cell_type": "code",
   "execution_count": null,
   "metadata": {},
   "outputs": [],
   "source": [
    "model.objective.expression"
   ]
  },
  {
   "cell_type": "markdown",
   "metadata": {},
   "source": [
    "We seem to be optimizing for a core biomass equation. Notice how we are optimizing for the net forward direction. Let's take a closer look at what the biomass equation is:"
   ]
  },
  {
   "cell_type": "code",
   "execution_count": null,
   "metadata": {},
   "outputs": [],
   "source": [
    "model.reactions.BIOMASS_Ec_iJO1366_core_53p95M.reaction"
   ]
  },
  {
   "cell_type": "markdown",
   "metadata": {},
   "source": [
    "Complicated! Biomass functions like this are very carefully considered and tuned to match experimental conditions. This expression captures what it takes for *E. coli* to grow and divide. \n",
    "\n",
    "Notice how this equation is not mass balanced! Metabolites like amino acids (met, his, ile, gln, etc.) are consumed and are lost from the system.\n",
    "\n",
    "## Constraints\n",
    "\n",
    "Ok, so our stoichiometry matrix derives from the reactions, our objective function is defined. What about our constraints? These are encoded in the reaction objects. You can view or modify them. Let's look at the bounds for the F6PP reaction"
   ]
  },
  {
   "cell_type": "code",
   "execution_count": null,
   "metadata": {},
   "outputs": [],
   "source": [
    "model.reactions.F6PP.bounds"
   ]
  },
  {
   "cell_type": "markdown",
   "metadata": {},
   "source": [
    "1000 is a fairly high upper bound, practically unbounded. Scroll up a few blocks to where we looked at the F6PP reaction. Notice that it is irreversible? That is consistent with the lower bound 0.\n",
    "\n",
    "For fun, set the lower bound to a negative number (you can use the `=` operator and input a tuple like (-10,1000). Then, view the reaction again with `model.reactions.F6PP.reaction` and see what happens.\n",
    "\n",
    "## Media\n",
    "\n",
    "The growth media or surrounding environment can be defined by exchange reactions. You can view these reactions as below."
   ]
  },
  {
   "cell_type": "code",
   "execution_count": null,
   "metadata": {},
   "outputs": [],
   "source": [
    "model.medium"
   ]
  },
  {
   "cell_type": "markdown",
   "metadata": {},
   "source": [
    "We see that many micronutrients are in abundance. Glucose, however, is limiting with 10, and there is no other carbon source supplied. Importantly, O2 is not limiting, so this is aerobic growth. EX_cbl1_e is also interesting, let's see what this is."
   ]
  },
  {
   "cell_type": "code",
   "execution_count": null,
   "metadata": {},
   "outputs": [],
   "source": [
    "model.metabolites.cbl1_e.name"
   ]
  },
  {
   "cell_type": "markdown",
   "metadata": {},
   "source": [
    "Cobalamin is vitamin B12."
   ]
  },
  {
   "cell_type": "markdown",
   "metadata": {},
   "source": [
    "Enough chit-chat, let's optimize this cell."
   ]
  },
  {
   "cell_type": "code",
   "execution_count": null,
   "metadata": {},
   "outputs": [],
   "source": [
    "solution = model.optimize()"
   ]
  },
  {
   "cell_type": "code",
   "execution_count": null,
   "metadata": {},
   "outputs": [],
   "source": [
    "solution"
   ]
  },
  {
   "cell_type": "markdown",
   "metadata": {},
   "source": [
    "The solution object contains fluxes, shadow costs, and reduced costs for each reaction. We see that the objective solved to 0.982. That's cool, but without some graphs or variables, it doesn't tell us much.\n",
    "\n",
    "If you installed escher and used the Jupyter widget, we can plot our fluxes."
   ]
  },
  {
   "cell_type": "code",
   "execution_count": null,
   "metadata": {},
   "outputs": [],
   "source": [
    "import escher"
   ]
  },
  {
   "cell_type": "code",
   "execution_count": null,
   "metadata": {},
   "outputs": [],
   "source": [
    "escher.list_available_maps() # Let's see what models come with escher by default"
   ]
  },
  {
   "cell_type": "code",
   "execution_count": null,
   "metadata": {},
   "outputs": [],
   "source": [
    "escher.Builder(map_name='iJO1366.Central metabolism',\n",
    "                   reaction_data=dict(solution.fluxes))"
   ]
  },
  {
   "cell_type": "markdown",
   "metadata": {},
   "source": [
    "Pretty cool, eh? Let's try something. What if the cell didn't have oxygen?"
   ]
  },
  {
   "cell_type": "code",
   "execution_count": null,
   "metadata": {},
   "outputs": [],
   "source": [
    "newmodel = model.copy()\n"
   ]
  },
  {
   "cell_type": "code",
   "execution_count": null,
   "metadata": {},
   "outputs": [],
   "source": [
    "medium = newmodel.medium\n",
    "medium[\"EX_o2_e\"] = 0.0\n",
    "newmodel.medium = medium\n",
    "\n",
    "newmodel.medium"
   ]
  },
  {
   "cell_type": "code",
   "execution_count": null,
   "metadata": {},
   "outputs": [],
   "source": [
    "anaerobic = newmodel.optimize()"
   ]
  },
  {
   "cell_type": "code",
   "execution_count": null,
   "metadata": {},
   "outputs": [],
   "source": [
    "anaerobic"
   ]
  },
  {
   "cell_type": "markdown",
   "metadata": {},
   "source": [
    "Growth rate took a big hit! Let's map it"
   ]
  },
  {
   "cell_type": "code",
   "execution_count": null,
   "metadata": {},
   "outputs": [],
   "source": [
    "escher.Builder(map_name='iJO1366.Central metabolism',\n",
    "                   reaction_data=dict(anaerobic.fluxes))"
   ]
  },
  {
   "cell_type": "markdown",
   "metadata": {},
   "source": [
    "Pretty cool. We see a huge increase in glycolysis. Makes sense!\n",
    "\n",
    "Now let's extract specific fluxes from the simulation and see how they vary with constraints. Let's test the effect of glucose availability on the media. Let's also see how much oxygen is sucked up by the cells, and how much acetate and lactate are secreted from the cell."
   ]
  },
  {
   "cell_type": "code",
   "execution_count": null,
   "metadata": {},
   "outputs": [],
   "source": [
    "medium = model.medium\n",
    "testvalues = [0.01, 0.1, 0.5, 1, 5, 10, 50, 100, 200, 500, 1000]\n",
    "output = [] # empty lists to start collecting output\n",
    "oxygen = []\n",
    "acetate = []\n",
    "lactate = []\n",
    "with model: # doesn't overwrite the original model\n",
    "    for i in testvalues:\n",
    "        medium['EX_glc__D_e'] = i\n",
    "        model.medium = medium\n",
    "        solution = model.optimize()\n",
    "        output.append(solution.objective_value)\n",
    "        oxygen.append(-solution.fluxes['EX_o2_e'])\n",
    "        acetate.append(solution.fluxes['EX_ac_e'])\n",
    "        lactate.append(solution.fluxes['EX_lac__L_e'])"
   ]
  },
  {
   "cell_type": "code",
   "execution_count": null,
   "metadata": {},
   "outputs": [],
   "source": [
    "import matplotlib.pyplot as plt"
   ]
  },
  {
   "cell_type": "code",
   "execution_count": null,
   "metadata": {},
   "outputs": [],
   "source": [
    "plt.plot(testvalues, output, \"o-\")\n",
    "plt.xlabel(\"Maximum Glucose Uptake\")\n",
    "plt.ylabel(\"Growth rate\")\n",
    "plt.title(\"Media composition and growth\")"
   ]
  },
  {
   "cell_type": "code",
   "execution_count": null,
   "metadata": {},
   "outputs": [],
   "source": [
    "plt.plot(testvalues, oxygen, \"o-\", label = \"Oxygen uptake\")\n",
    "plt.plot(testvalues, lactate, \"o-\", label = \"Lactate sec.\")\n",
    "plt.plot(testvalues, acetate, \"o-\", label = \"Acetate sec.\")\n",
    "plt.legend()\n",
    "plt.xlabel(\"Maximum Glucose Uptake\")\n",
    "plt.ylabel(\"Flux\")\n",
    "plt.title(\"Media composition and oxygen consumption\")"
   ]
  },
  {
   "cell_type": "markdown",
   "metadata": {},
   "source": [
    "Let's try something else. Let's keep the glucose availability in the media constant, and then force the cells to uptake increasing amounts of oxygen. Oxygen is good, right?"
   ]
  },
  {
   "cell_type": "code",
   "execution_count": null,
   "metadata": {},
   "outputs": [],
   "source": [
    "medium = model.medium\n",
    "testvalues = [0.01, 0.1, 0.5, 1, 5, 10, 50, 100, 200, 250, 260, 280, 300]\n",
    "output = []\n",
    "oxygen = []\n",
    "gluuptake = []\n",
    "with model: # doesn't overwrite the original model\n",
    "    for i in testvalues:\n",
    "        model.reactions.EX_o2_e.bounds = (-i, -i) # Negative means O2 is entering the cell\n",
    "        solution = model.optimize()\n",
    "        output.append(solution.objective_value)"
   ]
  },
  {
   "cell_type": "code",
   "execution_count": null,
   "metadata": {},
   "outputs": [],
   "source": [
    "plt.plot(testvalues, output, \"o-\")\n",
    "plt.xlabel(\"Oxygen Uptake\")\n",
    "plt.ylabel(\"Growth\")\n",
    "plt.title(\"Oxygen uptake and growth\")"
   ]
  },
  {
   "cell_type": "code",
   "execution_count": null,
   "metadata": {},
   "outputs": [],
   "source": [
    "from cobra.flux_analysis import production_envelope\n",
    "prod_env = production_envelope(\n",
    "    model, [\"EX_o2_e\"], objective=\"EX_ac_e\", carbon_sources=\"EX_glc__D_e\")"
   ]
  },
  {
   "cell_type": "code",
   "execution_count": null,
   "metadata": {},
   "outputs": [],
   "source": [
    "prod_env.plot(\n",
    "    kind='line', x='EX_o2_e', y='carbon_yield_maximum');"
   ]
  },
  {
   "cell_type": "code",
   "execution_count": null,
   "metadata": {},
   "outputs": [],
   "source": [
    "prod_env"
   ]
  },
  {
   "cell_type": "markdown",
   "metadata": {},
   "source": [
    "The production envelope gives us the same information as our manual experiment. Note that the sign for glucose uptake is inverted in the COBRA function; you'll see that I added a negative sign in my code to provide opposite values. The exchange reaction has metabolites leaving the environment, so they will appear negative when they enter."
   ]
  },
  {
   "cell_type": "code",
   "execution_count": null,
   "metadata": {},
   "outputs": [],
   "source": []
  }
 ],
 "metadata": {
  "kernelspec": {
   "display_name": "Python 3",
   "language": "python",
   "name": "python3"
  },
  "language_info": {
   "codemirror_mode": {
    "name": "ipython",
    "version": 3
   },
   "file_extension": ".py",
   "mimetype": "text/x-python",
   "name": "python",
   "nbconvert_exporter": "python",
   "pygments_lexer": "ipython3",
   "version": "3.8.2"
  }
 },
 "nbformat": 4,
 "nbformat_minor": 4
}
